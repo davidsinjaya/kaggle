{
 "cells": [
  {
   "cell_type": "markdown",
   "metadata": {
    "papermill": {
     "duration": 0.044743,
     "end_time": "2020-12-30T07:53:05.728097",
     "exception": false,
     "start_time": "2020-12-30T07:53:05.683354",
     "status": "completed"
    },
    "tags": []
   },
   "source": [
    "**Outline**\n",
    "1. **Loading Data**\n",
    "2. **Data Sanity Check**: ensure consistent values across features\n",
    "3. **EDA, Insights & Recommendations**: find patterns and provide actionable insights out of the data.\n",
    "4. **Data Cleansing**: cast `TotalCharges` to float while dropping few rows with missing values.\n",
    "5. **Feature Engineering** : convert categorical variables to dummy variables\n",
    "6. **Split Training and Test Set**: provide hold-out test set to test model performance.\n",
    "7. **Plot Features Correlation**: remove highly correlated features if any\n",
    "8. **Model Selection**: select the best algorithm\n",
    "9. **Hyperparameter finetuning**: use RandomizedSearchCV to find best model hyperparameter\n",
    "10. **Predict Hold-out Test Set**"
   ]
  },
  {
   "cell_type": "code",
   "execution_count": 1,
   "metadata": {
    "_cell_guid": "b1076dfc-b9ad-4769-8c92-a6c4dae69d19",
    "_uuid": "8f2839f25d086af736a60e9eeb907d3b93b6e0e5",
    "execution": {
     "iopub.execute_input": "2020-12-30T07:53:05.827430Z",
     "iopub.status.busy": "2020-12-30T07:53:05.826581Z",
     "iopub.status.idle": "2020-12-30T07:53:06.891285Z",
     "shell.execute_reply": "2020-12-30T07:53:06.890426Z"
    },
    "papermill": {
     "duration": 1.118355,
     "end_time": "2020-12-30T07:53:06.891414",
     "exception": false,
     "start_time": "2020-12-30T07:53:05.773059",
     "status": "completed"
    },
    "tags": []
   },
   "outputs": [
    {
     "name": "stdout",
     "output_type": "stream",
     "text": [
      "/kaggle/input/telco-customer-churn/WA_Fn-UseC_-Telco-Customer-Churn.csv\n"
     ]
    }
   ],
   "source": [
    "# This Python 3 environment comes with many helpful analytics libraries installed\n",
    "# It is defined by the kaggle/python Docker image: https://github.com/kaggle/docker-python\n",
    "# For example, here's several helpful packages to load\n",
    "\n",
    "import numpy as np # linear algebra\n",
    "import pandas as pd # data processing, CSV file I/O (e.g. pd.read_csv)\n",
    "import seaborn as sns\n",
    "import matplotlib.pyplot as plt\n",
    "import warnings;warnings.filterwarnings(\"ignore\")\n",
    "\n",
    "from sklearn.model_selection import cross_validate\n",
    "from sklearn.model_selection import RandomizedSearchCV\n",
    "from sklearn.metrics import accuracy_score\n",
    "from sklearn.metrics import plot_confusion_matrix\n",
    "from sklearn.metrics import roc_curve\n",
    "from sklearn.metrics import roc_auc_score\n",
    "\n",
    "# Input data files are available in the read-only \"../input/\" directory\n",
    "# For example, running this (by clicking run or pressing Shift+Enter) will list all files under the input directory\n",
    "\n",
    "import os\n",
    "for dirname, _, filenames in os.walk('/kaggle/input'):\n",
    "    for filename in filenames:\n",
    "        print(os.path.join(dirname, filename))\n",
    "\n",
    "# You can write up to 20GB to the current directory (/kaggle/working/) that gets preserved as output when you create a version using \"Save & Run All\" \n",
    "# You can also write temporary files to /kaggle/temp/, but they won't be saved outside of the current session"
   ]
  },
  {
   "cell_type": "markdown",
   "metadata": {
    "papermill": {
     "duration": 0.066831,
     "end_time": "2020-12-30T07:53:07.026570",
     "exception": false,
     "start_time": "2020-12-30T07:53:06.959739",
     "status": "completed"
    },
    "tags": []
   },
   "source": [
    "## Loading Data"
   ]
  },
  {
   "cell_type": "code",
   "execution_count": 2,
   "metadata": {
    "_cell_guid": "79c7e3d0-c299-4dcb-8224-4455121ee9b0",
    "_uuid": "d629ff2d2480ee46fbb7e2d37f6b5fab8052498a",
    "execution": {
     "iopub.execute_input": "2020-12-30T07:53:07.168378Z",
     "iopub.status.busy": "2020-12-30T07:53:07.167679Z",
     "iopub.status.idle": "2020-12-30T07:53:07.245376Z",
     "shell.execute_reply": "2020-12-30T07:53:07.244783Z"
    },
    "papermill": {
     "duration": 0.151463,
     "end_time": "2020-12-30T07:53:07.245490",
     "exception": false,
     "start_time": "2020-12-30T07:53:07.094027",
     "status": "completed"
    },
    "tags": []
   },
   "outputs": [],
   "source": [
    "df = pd.read_csv('../input/telco-customer-churn/WA_Fn-UseC_-Telco-Customer-Churn.csv')"
   ]
  },
  {
   "cell_type": "code",
   "execution_count": 3,
   "metadata": {
    "execution": {
     "iopub.execute_input": "2020-12-30T07:53:07.342290Z",
     "iopub.status.busy": "2020-12-30T07:53:07.341266Z",
     "iopub.status.idle": "2020-12-30T07:53:07.346098Z",
     "shell.execute_reply": "2020-12-30T07:53:07.345550Z"
    },
    "papermill": {
     "duration": 0.055773,
     "end_time": "2020-12-30T07:53:07.346221",
     "exception": false,
     "start_time": "2020-12-30T07:53:07.290448",
     "status": "completed"
    },
    "tags": []
   },
   "outputs": [
    {
     "data": {
      "text/plain": [
       "(7043, 21)"
      ]
     },
     "execution_count": 3,
     "metadata": {},
     "output_type": "execute_result"
    }
   ],
   "source": [
    "df.shape"
   ]
  },
  {
   "cell_type": "code",
   "execution_count": 4,
   "metadata": {
    "execution": {
     "iopub.execute_input": "2020-12-30T07:53:07.468081Z",
     "iopub.status.busy": "2020-12-30T07:53:07.446044Z",
     "iopub.status.idle": "2020-12-30T07:53:07.484091Z",
     "shell.execute_reply": "2020-12-30T07:53:07.483412Z"
    },
    "papermill": {
     "duration": 0.09251,
     "end_time": "2020-12-30T07:53:07.484275",
     "exception": false,
     "start_time": "2020-12-30T07:53:07.391765",
     "status": "completed"
    },
    "tags": []
   },
   "outputs": [
    {
     "data": {
      "text/html": [
       "<div>\n",
       "<style scoped>\n",
       "    .dataframe tbody tr th:only-of-type {\n",
       "        vertical-align: middle;\n",
       "    }\n",
       "\n",
       "    .dataframe tbody tr th {\n",
       "        vertical-align: top;\n",
       "    }\n",
       "\n",
       "    .dataframe thead th {\n",
       "        text-align: right;\n",
       "    }\n",
       "</style>\n",
       "<table border=\"1\" class=\"dataframe\">\n",
       "  <thead>\n",
       "    <tr style=\"text-align: right;\">\n",
       "      <th></th>\n",
       "      <th>customerID</th>\n",
       "      <th>gender</th>\n",
       "      <th>SeniorCitizen</th>\n",
       "      <th>Partner</th>\n",
       "      <th>Dependents</th>\n",
       "      <th>tenure</th>\n",
       "      <th>PhoneService</th>\n",
       "      <th>MultipleLines</th>\n",
       "      <th>InternetService</th>\n",
       "      <th>OnlineSecurity</th>\n",
       "      <th>...</th>\n",
       "      <th>DeviceProtection</th>\n",
       "      <th>TechSupport</th>\n",
       "      <th>StreamingTV</th>\n",
       "      <th>StreamingMovies</th>\n",
       "      <th>Contract</th>\n",
       "      <th>PaperlessBilling</th>\n",
       "      <th>PaymentMethod</th>\n",
       "      <th>MonthlyCharges</th>\n",
       "      <th>TotalCharges</th>\n",
       "      <th>Churn</th>\n",
       "    </tr>\n",
       "  </thead>\n",
       "  <tbody>\n",
       "    <tr>\n",
       "      <th>0</th>\n",
       "      <td>7590-VHVEG</td>\n",
       "      <td>Female</td>\n",
       "      <td>0</td>\n",
       "      <td>Yes</td>\n",
       "      <td>No</td>\n",
       "      <td>1</td>\n",
       "      <td>No</td>\n",
       "      <td>No phone service</td>\n",
       "      <td>DSL</td>\n",
       "      <td>No</td>\n",
       "      <td>...</td>\n",
       "      <td>No</td>\n",
       "      <td>No</td>\n",
       "      <td>No</td>\n",
       "      <td>No</td>\n",
       "      <td>Month-to-month</td>\n",
       "      <td>Yes</td>\n",
       "      <td>Electronic check</td>\n",
       "      <td>29.85</td>\n",
       "      <td>29.85</td>\n",
       "      <td>No</td>\n",
       "    </tr>\n",
       "    <tr>\n",
       "      <th>1</th>\n",
       "      <td>5575-GNVDE</td>\n",
       "      <td>Male</td>\n",
       "      <td>0</td>\n",
       "      <td>No</td>\n",
       "      <td>No</td>\n",
       "      <td>34</td>\n",
       "      <td>Yes</td>\n",
       "      <td>No</td>\n",
       "      <td>DSL</td>\n",
       "      <td>Yes</td>\n",
       "      <td>...</td>\n",
       "      <td>Yes</td>\n",
       "      <td>No</td>\n",
       "      <td>No</td>\n",
       "      <td>No</td>\n",
       "      <td>One year</td>\n",
       "      <td>No</td>\n",
       "      <td>Mailed check</td>\n",
       "      <td>56.95</td>\n",
       "      <td>1889.5</td>\n",
       "      <td>No</td>\n",
       "    </tr>\n",
       "    <tr>\n",
       "      <th>2</th>\n",
       "      <td>3668-QPYBK</td>\n",
       "      <td>Male</td>\n",
       "      <td>0</td>\n",
       "      <td>No</td>\n",
       "      <td>No</td>\n",
       "      <td>2</td>\n",
       "      <td>Yes</td>\n",
       "      <td>No</td>\n",
       "      <td>DSL</td>\n",
       "      <td>Yes</td>\n",
       "      <td>...</td>\n",
       "      <td>No</td>\n",
       "      <td>No</td>\n",
       "      <td>No</td>\n",
       "      <td>No</td>\n",
       "      <td>Month-to-month</td>\n",
       "      <td>Yes</td>\n",
       "      <td>Mailed check</td>\n",
       "      <td>53.85</td>\n",
       "      <td>108.15</td>\n",
       "      <td>Yes</td>\n",
       "    </tr>\n",
       "    <tr>\n",
       "      <th>3</th>\n",
       "      <td>7795-CFOCW</td>\n",
       "      <td>Male</td>\n",
       "      <td>0</td>\n",
       "      <td>No</td>\n",
       "      <td>No</td>\n",
       "      <td>45</td>\n",
       "      <td>No</td>\n",
       "      <td>No phone service</td>\n",
       "      <td>DSL</td>\n",
       "      <td>Yes</td>\n",
       "      <td>...</td>\n",
       "      <td>Yes</td>\n",
       "      <td>Yes</td>\n",
       "      <td>No</td>\n",
       "      <td>No</td>\n",
       "      <td>One year</td>\n",
       "      <td>No</td>\n",
       "      <td>Bank transfer (automatic)</td>\n",
       "      <td>42.30</td>\n",
       "      <td>1840.75</td>\n",
       "      <td>No</td>\n",
       "    </tr>\n",
       "    <tr>\n",
       "      <th>4</th>\n",
       "      <td>9237-HQITU</td>\n",
       "      <td>Female</td>\n",
       "      <td>0</td>\n",
       "      <td>No</td>\n",
       "      <td>No</td>\n",
       "      <td>2</td>\n",
       "      <td>Yes</td>\n",
       "      <td>No</td>\n",
       "      <td>Fiber optic</td>\n",
       "      <td>No</td>\n",
       "      <td>...</td>\n",
       "      <td>No</td>\n",
       "      <td>No</td>\n",
       "      <td>No</td>\n",
       "      <td>No</td>\n",
       "      <td>Month-to-month</td>\n",
       "      <td>Yes</td>\n",
       "      <td>Electronic check</td>\n",
       "      <td>70.70</td>\n",
       "      <td>151.65</td>\n",
       "      <td>Yes</td>\n",
       "    </tr>\n",
       "  </tbody>\n",
       "</table>\n",
       "<p>5 rows × 21 columns</p>\n",
       "</div>"
      ],
      "text/plain": [
       "   customerID  gender  SeniorCitizen Partner Dependents  tenure PhoneService  \\\n",
       "0  7590-VHVEG  Female              0     Yes         No       1           No   \n",
       "1  5575-GNVDE    Male              0      No         No      34          Yes   \n",
       "2  3668-QPYBK    Male              0      No         No       2          Yes   \n",
       "3  7795-CFOCW    Male              0      No         No      45           No   \n",
       "4  9237-HQITU  Female              0      No         No       2          Yes   \n",
       "\n",
       "      MultipleLines InternetService OnlineSecurity  ... DeviceProtection  \\\n",
       "0  No phone service             DSL             No  ...               No   \n",
       "1                No             DSL            Yes  ...              Yes   \n",
       "2                No             DSL            Yes  ...               No   \n",
       "3  No phone service             DSL            Yes  ...              Yes   \n",
       "4                No     Fiber optic             No  ...               No   \n",
       "\n",
       "  TechSupport StreamingTV StreamingMovies        Contract PaperlessBilling  \\\n",
       "0          No          No              No  Month-to-month              Yes   \n",
       "1          No          No              No        One year               No   \n",
       "2          No          No              No  Month-to-month              Yes   \n",
       "3         Yes          No              No        One year               No   \n",
       "4          No          No              No  Month-to-month              Yes   \n",
       "\n",
       "               PaymentMethod MonthlyCharges  TotalCharges Churn  \n",
       "0           Electronic check          29.85         29.85    No  \n",
       "1               Mailed check          56.95        1889.5    No  \n",
       "2               Mailed check          53.85        108.15   Yes  \n",
       "3  Bank transfer (automatic)          42.30       1840.75    No  \n",
       "4           Electronic check          70.70        151.65   Yes  \n",
       "\n",
       "[5 rows x 21 columns]"
      ]
     },
     "execution_count": 4,
     "metadata": {},
     "output_type": "execute_result"
    }
   ],
   "source": [
    "df.head()"
   ]
  },
  {
   "cell_type": "code",
   "execution_count": 5,
   "metadata": {
    "execution": {
     "iopub.execute_input": "2020-12-30T07:53:07.636186Z",
     "iopub.status.busy": "2020-12-30T07:53:07.635555Z",
     "iopub.status.idle": "2020-12-30T07:53:07.643922Z",
     "shell.execute_reply": "2020-12-30T07:53:07.643317Z"
    },
    "papermill": {
     "duration": 0.089987,
     "end_time": "2020-12-30T07:53:07.644019",
     "exception": false,
     "start_time": "2020-12-30T07:53:07.554032",
     "status": "completed"
    },
    "tags": []
   },
   "outputs": [
    {
     "data": {
      "text/plain": [
       "customerID          7043\n",
       "gender              7043\n",
       "SeniorCitizen       7043\n",
       "Partner             7043\n",
       "Dependents          7043\n",
       "tenure              7043\n",
       "PhoneService        7043\n",
       "MultipleLines       7043\n",
       "InternetService     7043\n",
       "OnlineSecurity      7043\n",
       "OnlineBackup        7043\n",
       "DeviceProtection    7043\n",
       "TechSupport         7043\n",
       "StreamingTV         7043\n",
       "StreamingMovies     7043\n",
       "Contract            7043\n",
       "PaperlessBilling    7043\n",
       "PaymentMethod       7043\n",
       "MonthlyCharges      7043\n",
       "TotalCharges        7043\n",
       "Churn               7043\n",
       "dtype: int64"
      ]
     },
     "execution_count": 5,
     "metadata": {},
     "output_type": "execute_result"
    }
   ],
   "source": [
    "df.count()"
   ]
  },
  {
   "cell_type": "code",
   "execution_count": 6,
   "metadata": {
    "execution": {
     "iopub.execute_input": "2020-12-30T07:53:07.744053Z",
     "iopub.status.busy": "2020-12-30T07:53:07.743438Z",
     "iopub.status.idle": "2020-12-30T07:53:07.749536Z",
     "shell.execute_reply": "2020-12-30T07:53:07.748886Z"
    },
    "papermill": {
     "duration": 0.058574,
     "end_time": "2020-12-30T07:53:07.749638",
     "exception": false,
     "start_time": "2020-12-30T07:53:07.691064",
     "status": "completed"
    },
    "tags": []
   },
   "outputs": [
    {
     "data": {
      "text/plain": [
       "customerID           object\n",
       "gender               object\n",
       "SeniorCitizen         int64\n",
       "Partner              object\n",
       "Dependents           object\n",
       "tenure                int64\n",
       "PhoneService         object\n",
       "MultipleLines        object\n",
       "InternetService      object\n",
       "OnlineSecurity       object\n",
       "OnlineBackup         object\n",
       "DeviceProtection     object\n",
       "TechSupport          object\n",
       "StreamingTV          object\n",
       "StreamingMovies      object\n",
       "Contract             object\n",
       "PaperlessBilling     object\n",
       "PaymentMethod        object\n",
       "MonthlyCharges      float64\n",
       "TotalCharges         object\n",
       "Churn                object\n",
       "dtype: object"
      ]
     },
     "execution_count": 6,
     "metadata": {},
     "output_type": "execute_result"
    }
   ],
   "source": [
    "df.dtypes"
   ]
  },
  {
   "cell_type": "code",
   "execution_count": 7,
   "metadata": {
    "execution": {
     "iopub.execute_input": "2020-12-30T07:53:07.854306Z",
     "iopub.status.busy": "2020-12-30T07:53:07.853639Z",
     "iopub.status.idle": "2020-12-30T07:53:07.912263Z",
     "shell.execute_reply": "2020-12-30T07:53:07.911673Z"
    },
    "papermill": {
     "duration": 0.114895,
     "end_time": "2020-12-30T07:53:07.912364",
     "exception": false,
     "start_time": "2020-12-30T07:53:07.797469",
     "status": "completed"
    },
    "tags": []
   },
   "outputs": [
    {
     "name": "stdout",
     "output_type": "stream",
     "text": [
      "2043-WVTQJ    1\n",
      "5948-UJZLF    1\n",
      "8390-FESFV    1\n",
      "4086-YQSNZ    1\n",
      "6116-RFVHN    1\n",
      "             ..\n",
      "0621-JFHOL    1\n",
      "4945-RVMTE    1\n",
      "7353-YOWFP    1\n",
      "4694-PHWFW    1\n",
      "5568-DMXZS    1\n",
      "Name: customerID, Length: 7043, dtype: int64\n",
      "\n",
      "Male      3555\n",
      "Female    3488\n",
      "Name: gender, dtype: int64\n",
      "\n",
      "0    5901\n",
      "1    1142\n",
      "Name: SeniorCitizen, dtype: int64\n",
      "\n",
      "No     3641\n",
      "Yes    3402\n",
      "Name: Partner, dtype: int64\n",
      "\n",
      "No     4933\n",
      "Yes    2110\n",
      "Name: Dependents, dtype: int64\n",
      "\n",
      "1     613\n",
      "72    362\n",
      "2     238\n",
      "3     200\n",
      "4     176\n",
      "     ... \n",
      "28     57\n",
      "39     56\n",
      "44     51\n",
      "36     50\n",
      "0      11\n",
      "Name: tenure, Length: 73, dtype: int64\n",
      "\n",
      "Yes    6361\n",
      "No      682\n",
      "Name: PhoneService, dtype: int64\n",
      "\n",
      "No                  3390\n",
      "Yes                 2971\n",
      "No phone service     682\n",
      "Name: MultipleLines, dtype: int64\n",
      "\n",
      "Fiber optic    3096\n",
      "DSL            2421\n",
      "No             1526\n",
      "Name: InternetService, dtype: int64\n",
      "\n",
      "No                     3498\n",
      "Yes                    2019\n",
      "No internet service    1526\n",
      "Name: OnlineSecurity, dtype: int64\n",
      "\n",
      "No                     3088\n",
      "Yes                    2429\n",
      "No internet service    1526\n",
      "Name: OnlineBackup, dtype: int64\n",
      "\n",
      "No                     3095\n",
      "Yes                    2422\n",
      "No internet service    1526\n",
      "Name: DeviceProtection, dtype: int64\n",
      "\n",
      "No                     3473\n",
      "Yes                    2044\n",
      "No internet service    1526\n",
      "Name: TechSupport, dtype: int64\n",
      "\n",
      "No                     2810\n",
      "Yes                    2707\n",
      "No internet service    1526\n",
      "Name: StreamingTV, dtype: int64\n",
      "\n",
      "No                     2785\n",
      "Yes                    2732\n",
      "No internet service    1526\n",
      "Name: StreamingMovies, dtype: int64\n",
      "\n",
      "Month-to-month    3875\n",
      "Two year          1695\n",
      "One year          1473\n",
      "Name: Contract, dtype: int64\n",
      "\n",
      "Yes    4171\n",
      "No     2872\n",
      "Name: PaperlessBilling, dtype: int64\n",
      "\n",
      "Electronic check             2365\n",
      "Mailed check                 1612\n",
      "Bank transfer (automatic)    1544\n",
      "Credit card (automatic)      1522\n",
      "Name: PaymentMethod, dtype: int64\n",
      "\n",
      "20.05     61\n",
      "19.85     45\n",
      "19.95     44\n",
      "19.90     44\n",
      "20.00     43\n",
      "          ..\n",
      "114.75     1\n",
      "103.60     1\n",
      "113.40     1\n",
      "57.65      1\n",
      "113.30     1\n",
      "Name: MonthlyCharges, Length: 1585, dtype: int64\n",
      "\n",
      "20.2       11\n",
      "           11\n",
      "19.75       9\n",
      "19.9        8\n",
      "19.65       8\n",
      "           ..\n",
      "1912.15     1\n",
      "108.95      1\n",
      "4481        1\n",
      "4509.5      1\n",
      "314.55      1\n",
      "Name: TotalCharges, Length: 6531, dtype: int64\n",
      "\n",
      "No     5174\n",
      "Yes    1869\n",
      "Name: Churn, dtype: int64\n",
      "\n"
     ]
    }
   ],
   "source": [
    "for col in df.columns.to_list():\n",
    "    print(df[col].value_counts())\n",
    "    print()"
   ]
  },
  {
   "cell_type": "markdown",
   "metadata": {
    "papermill": {
     "duration": 0.047047,
     "end_time": "2020-12-30T07:53:08.006463",
     "exception": false,
     "start_time": "2020-12-30T07:53:07.959416",
     "status": "completed"
    },
    "tags": []
   },
   "source": [
    "## Data Sanity Check"
   ]
  },
  {
   "cell_type": "code",
   "execution_count": 8,
   "metadata": {
    "execution": {
     "iopub.execute_input": "2020-12-30T07:53:08.111805Z",
     "iopub.status.busy": "2020-12-30T07:53:08.110983Z",
     "iopub.status.idle": "2020-12-30T07:53:08.115459Z",
     "shell.execute_reply": "2020-12-30T07:53:08.114832Z"
    },
    "papermill": {
     "duration": 0.061954,
     "end_time": "2020-12-30T07:53:08.115576",
     "exception": false,
     "start_time": "2020-12-30T07:53:08.053622",
     "status": "completed"
    },
    "tags": []
   },
   "outputs": [
    {
     "data": {
      "text/plain": [
       "No phone service    682\n",
       "Name: MultipleLines, dtype: int64"
      ]
     },
     "execution_count": 8,
     "metadata": {},
     "output_type": "execute_result"
    }
   ],
   "source": [
    "# No phone service\n",
    "df[df.PhoneService=='No'].MultipleLines.value_counts()"
   ]
  },
  {
   "cell_type": "code",
   "execution_count": 9,
   "metadata": {
    "execution": {
     "iopub.execute_input": "2020-12-30T07:53:08.220372Z",
     "iopub.status.busy": "2020-12-30T07:53:08.219700Z",
     "iopub.status.idle": "2020-12-30T07:53:08.252094Z",
     "shell.execute_reply": "2020-12-30T07:53:08.251552Z"
    },
    "papermill": {
     "duration": 0.088332,
     "end_time": "2020-12-30T07:53:08.252227",
     "exception": false,
     "start_time": "2020-12-30T07:53:08.163895",
     "status": "completed"
    },
    "tags": []
   },
   "outputs": [
    {
     "name": "stdout",
     "output_type": "stream",
     "text": [
      "No internet service    1526\n",
      "Name: OnlineSecurity, dtype: int64\n",
      "No internet service    1526\n",
      "Name: OnlineBackup, dtype: int64\n",
      "No internet service    1526\n",
      "Name: DeviceProtection, dtype: int64\n",
      "No internet service    1526\n",
      "Name: TechSupport, dtype: int64\n",
      "No internet service    1526\n",
      "Name: StreamingTV, dtype: int64\n",
      "No internet service    1526\n",
      "Name: StreamingMovies, dtype: int64\n"
     ]
    }
   ],
   "source": [
    "# No internet service\n",
    "for col in ['OnlineSecurity','OnlineBackup','DeviceProtection','TechSupport','StreamingTV','StreamingMovies']:\n",
    "    print(df[df.InternetService=='No'][col].value_counts())\n",
    "    print"
   ]
  },
  {
   "cell_type": "markdown",
   "metadata": {
    "papermill": {
     "duration": 0.047334,
     "end_time": "2020-12-30T07:53:08.347264",
     "exception": false,
     "start_time": "2020-12-30T07:53:08.299930",
     "status": "completed"
    },
    "tags": []
   },
   "source": [
    "Data looks good for no phone service and no internet service."
   ]
  },
  {
   "cell_type": "markdown",
   "metadata": {
    "papermill": {
     "duration": 0.047957,
     "end_time": "2020-12-30T07:53:08.443440",
     "exception": false,
     "start_time": "2020-12-30T07:53:08.395483",
     "status": "completed"
    },
    "tags": []
   },
   "source": [
    "## EDA, Insights & Recommendations"
   ]
  },
  {
   "cell_type": "code",
   "execution_count": 10,
   "metadata": {
    "execution": {
     "iopub.execute_input": "2020-12-30T07:53:08.549654Z",
     "iopub.status.busy": "2020-12-30T07:53:08.548780Z",
     "iopub.status.idle": "2020-12-30T07:53:08.554349Z",
     "shell.execute_reply": "2020-12-30T07:53:08.553772Z"
    },
    "papermill": {
     "duration": 0.063038,
     "end_time": "2020-12-30T07:53:08.554455",
     "exception": false,
     "start_time": "2020-12-30T07:53:08.491417",
     "status": "completed"
    },
    "tags": []
   },
   "outputs": [
    {
     "data": {
      "text/plain": [
       "No     5174\n",
       "Yes    1869\n",
       "Name: Churn, dtype: int64"
      ]
     },
     "execution_count": 10,
     "metadata": {},
     "output_type": "execute_result"
    }
   ],
   "source": [
    "df.Churn.value_counts()"
   ]
  },
  {
   "cell_type": "code",
   "execution_count": 11,
   "metadata": {
    "execution": {
     "iopub.execute_input": "2020-12-30T07:53:08.666779Z",
     "iopub.status.busy": "2020-12-30T07:53:08.665828Z",
     "iopub.status.idle": "2020-12-30T07:53:08.671113Z",
     "shell.execute_reply": "2020-12-30T07:53:08.670487Z"
    },
    "papermill": {
     "duration": 0.066547,
     "end_time": "2020-12-30T07:53:08.671246",
     "exception": false,
     "start_time": "2020-12-30T07:53:08.604699",
     "status": "completed"
    },
    "tags": []
   },
   "outputs": [
    {
     "data": {
      "text/plain": [
       "['customerID',\n",
       " 'gender',\n",
       " 'SeniorCitizen',\n",
       " 'Partner',\n",
       " 'Dependents',\n",
       " 'tenure',\n",
       " 'PhoneService',\n",
       " 'MultipleLines',\n",
       " 'InternetService',\n",
       " 'OnlineSecurity',\n",
       " 'OnlineBackup',\n",
       " 'DeviceProtection',\n",
       " 'TechSupport',\n",
       " 'StreamingTV',\n",
       " 'StreamingMovies',\n",
       " 'Contract',\n",
       " 'PaperlessBilling',\n",
       " 'PaymentMethod',\n",
       " 'MonthlyCharges',\n",
       " 'TotalCharges',\n",
       " 'Churn']"
      ]
     },
     "execution_count": 11,
     "metadata": {},
     "output_type": "execute_result"
    }
   ],
   "source": [
    "df.columns.to_list()"
   ]
  },
  {
   "cell_type": "code",
   "execution_count": 12,
   "metadata": {
    "execution": {
     "iopub.execute_input": "2020-12-30T07:53:08.780768Z",
     "iopub.status.busy": "2020-12-30T07:53:08.779766Z",
     "iopub.status.idle": "2020-12-30T07:53:08.783339Z",
     "shell.execute_reply": "2020-12-30T07:53:08.782783Z"
    },
    "papermill": {
     "duration": 0.060918,
     "end_time": "2020-12-30T07:53:08.783454",
     "exception": false,
     "start_time": "2020-12-30T07:53:08.722536",
     "status": "completed"
    },
    "tags": []
   },
   "outputs": [],
   "source": [
    "num_feature = ['tenure','MonthlyCharges'] #TotalCharges is processed separately since the data is not stored in float type\n",
    "cat_feature = ['gender',\n",
    " 'SeniorCitizen',\n",
    " 'Partner',\n",
    " 'Dependents',\n",
    " 'PhoneService',\n",
    " 'MultipleLines',\n",
    " 'InternetService',\n",
    " 'OnlineSecurity',\n",
    " 'OnlineBackup',\n",
    " 'DeviceProtection',\n",
    " 'TechSupport',\n",
    " 'StreamingTV',\n",
    " 'StreamingMovies',\n",
    " 'Contract',\n",
    " 'PaperlessBilling',\n",
    " 'PaymentMethod',\n",
    "    'tenure_bin']"
   ]
  },
  {
   "cell_type": "code",
   "execution_count": 13,
   "metadata": {
    "execution": {
     "iopub.execute_input": "2020-12-30T07:53:08.892818Z",
     "iopub.status.busy": "2020-12-30T07:53:08.892173Z",
     "iopub.status.idle": "2020-12-30T07:53:09.401714Z",
     "shell.execute_reply": "2020-12-30T07:53:09.401048Z"
    },
    "papermill": {
     "duration": 0.567281,
     "end_time": "2020-12-30T07:53:09.401821",
     "exception": false,
     "start_time": "2020-12-30T07:53:08.834540",
     "status": "completed"
    },
    "tags": []
   },
   "outputs": [
    {
     "data": {
      "image/png": "[encoded data removed]",
      "text/plain": [
       "<Figure size 432x288 with 1 Axes>"
      ]
     },
     "metadata": {
      "needs_background": "light"
     },
     "output_type": "display_data"
    },
    {
     "data": {
      "image/png": "[encoded data removed]",
      "text/plain": [
       "<Figure size 432x288 with 1 Axes>"
      ]
     },
     "metadata": {
      "needs_background": "light"
     },
     "output_type": "display_data"
    }
   ],
   "source": [
    "for col in num_feature:\n",
    "    sns.violinplot(x='Churn',y=col,data=df)\n",
    "    plt.show()"
   ]
  },
  {
   "cell_type": "markdown",
   "metadata": {
    "papermill": {
     "duration": 0.050965,
     "end_time": "2020-12-30T07:53:09.504701",
     "exception": false,
     "start_time": "2020-12-30T07:53:09.453736",
     "status": "completed"
    },
    "tags": []
   },
   "source": [
    "**Insights**:\n",
    "1. `Tenure` of churned customers is skewed to short tenure duration and relatively shorter to non-churn customers, whereas the tenure of non-churn customers is more uniformly distributed. This makes sense since customer will be early to churn if they feel the product is not right fit for them and they will churn in their early customer lifecycle.\n",
    "2. Interestingly, `MonthlyCharges` of churn customers are relatively higher than non-churn customers'. It means the churn customers use \"more\" services hence they are charged more. We should analyze later the differences on used services between churn and non-churn customers."
   ]
  },
  {
   "cell_type": "code",
   "execution_count": 14,
   "metadata": {
    "execution": {
     "iopub.execute_input": "2020-12-30T07:53:09.619723Z",
     "iopub.status.busy": "2020-12-30T07:53:09.618828Z",
     "iopub.status.idle": "2020-12-30T07:53:09.637795Z",
     "shell.execute_reply": "2020-12-30T07:53:09.637247Z"
    },
    "papermill": {
     "duration": 0.08205,
     "end_time": "2020-12-30T07:53:09.637933",
     "exception": false,
     "start_time": "2020-12-30T07:53:09.555883",
     "status": "completed"
    },
    "tags": []
   },
   "outputs": [
    {
     "data": {
      "text/html": [
       "<div>\n",
       "<style scoped>\n",
       "    .dataframe tbody tr th:only-of-type {\n",
       "        vertical-align: middle;\n",
       "    }\n",
       "\n",
       "    .dataframe tbody tr th {\n",
       "        vertical-align: top;\n",
       "    }\n",
       "\n",
       "    .dataframe thead th {\n",
       "        text-align: right;\n",
       "    }\n",
       "</style>\n",
       "<table border=\"1\" class=\"dataframe\">\n",
       "  <thead>\n",
       "    <tr style=\"text-align: right;\">\n",
       "      <th></th>\n",
       "      <th>tenure</th>\n",
       "      <th>MonthlyCharges</th>\n",
       "    </tr>\n",
       "  </thead>\n",
       "  <tbody>\n",
       "    <tr>\n",
       "      <th>count</th>\n",
       "      <td>7043.000000</td>\n",
       "      <td>7043.000000</td>\n",
       "    </tr>\n",
       "    <tr>\n",
       "      <th>mean</th>\n",
       "      <td>32.371149</td>\n",
       "      <td>64.761692</td>\n",
       "    </tr>\n",
       "    <tr>\n",
       "      <th>std</th>\n",
       "      <td>24.559481</td>\n",
       "      <td>30.090047</td>\n",
       "    </tr>\n",
       "    <tr>\n",
       "      <th>min</th>\n",
       "      <td>0.000000</td>\n",
       "      <td>18.250000</td>\n",
       "    </tr>\n",
       "    <tr>\n",
       "      <th>25%</th>\n",
       "      <td>9.000000</td>\n",
       "      <td>35.500000</td>\n",
       "    </tr>\n",
       "    <tr>\n",
       "      <th>50%</th>\n",
       "      <td>29.000000</td>\n",
       "      <td>70.350000</td>\n",
       "    </tr>\n",
       "    <tr>\n",
       "      <th>75%</th>\n",
       "      <td>55.000000</td>\n",
       "      <td>89.850000</td>\n",
       "    </tr>\n",
       "    <tr>\n",
       "      <th>max</th>\n",
       "      <td>72.000000</td>\n",
       "      <td>118.750000</td>\n",
       "    </tr>\n",
       "  </tbody>\n",
       "</table>\n",
       "</div>"
      ],
      "text/plain": [
       "            tenure  MonthlyCharges\n",
       "count  7043.000000     7043.000000\n",
       "mean     32.371149       64.761692\n",
       "std      24.559481       30.090047\n",
       "min       0.000000       18.250000\n",
       "25%       9.000000       35.500000\n",
       "50%      29.000000       70.350000\n",
       "75%      55.000000       89.850000\n",
       "max      72.000000      118.750000"
      ]
     },
     "execution_count": 14,
     "metadata": {},
     "output_type": "execute_result"
    }
   ],
   "source": [
    "df[num_feature].describe()"
   ]
  },
  {
   "cell_type": "markdown",
   "metadata": {
    "papermill": {
     "duration": 0.053302,
     "end_time": "2020-12-30T07:53:09.746311",
     "exception": false,
     "start_time": "2020-12-30T07:53:09.693009",
     "status": "completed"
    },
    "tags": []
   },
   "source": [
    "Assuming `tenure` is in month unit, we will bin tenure into 6-month bucket. The first two bucket might be important since tenure is lesser than 1 year contract.\n",
    "`MonthlyCharges` and `TotalCharges` are not binned since there is no significant gain in term of corellation to target label(Churn) out of the binned features"
   ]
  },
  {
   "cell_type": "code",
   "execution_count": 15,
   "metadata": {
    "execution": {
     "iopub.execute_input": "2020-12-30T07:53:09.876833Z",
     "iopub.status.busy": "2020-12-30T07:53:09.863513Z",
     "iopub.status.idle": "2020-12-30T07:53:09.882552Z",
     "shell.execute_reply": "2020-12-30T07:53:09.881619Z"
    },
    "papermill": {
     "duration": 0.083064,
     "end_time": "2020-12-30T07:53:09.882681",
     "exception": false,
     "start_time": "2020-12-30T07:53:09.799617",
     "status": "completed"
    },
    "tags": []
   },
   "outputs": [],
   "source": [
    "df['tenure_bin'] = pd.cut(df.tenure,pd.IntervalIndex.from_tuples([(-1,6),(6,12),(12,18),(18,24),(24,30),(30,36),\n",
    "                                                                 (36,42),(42,48),(48,54),(54,60),(60,66),(66,72)]))"
   ]
  },
  {
   "cell_type": "code",
   "execution_count": 16,
   "metadata": {
    "execution": {
     "iopub.execute_input": "2020-12-30T07:53:10.048596Z",
     "iopub.status.busy": "2020-12-30T07:53:10.047890Z",
     "iopub.status.idle": "2020-12-30T07:53:14.354956Z",
     "shell.execute_reply": "2020-12-30T07:53:14.354320Z"
    },
    "papermill": {
     "duration": 4.393375,
     "end_time": "2020-12-30T07:53:14.355060",
     "exception": false,
     "start_time": "2020-12-30T07:53:09.961685",
     "status": "completed"
    },
    "tags": []
   },
   "outputs": [
    {
     "data": {
      "image/png": "[encoded data removed]",
      "text/plain": [
       "<Figure size 432.125x360 with 1 Axes>"
      ]
     },
     "metadata": {
      "needs_background": "light"
     },
     "output_type": "display_data"
    },
    {
     "data": {
      "image/png": "[encoded data removed]",
      "text/plain": [
       "<Figure size 433.875x360 with 1 Axes>"
      ]
     },
     "metadata": {
      "needs_background": "light"
     },
     "output_type": "display_data"
    },
    {
     "data": {
      "image/png": "[encoded data removed]",
      "text/plain": [
       "<Figure size 412x360 with 1 Axes>"
      ]
     },
     "metadata": {
      "needs_background": "light"
     },
     "output_type": "display_data"
    },
    {
     "data": {
      "image/png": "[encoded data removed]",
      "text/plain": [
       "<Figure size 428.625x360 with 1 Axes>"
      ]
     },
     "metadata": {
      "needs_background": "light"
     },
     "output_type": "display_data"
    },
    {
     "data": {
      "image/png": "[encoded data removed]",
      "text/plain": [
       "<Figure size 435.75x360 with 1 Axes>"
      ]
     },
     "metadata": {
      "needs_background": "light"
     },
     "output_type": "display_data"
    },
    {
     "data": {
      "image/png": "[encoded data removed]",
      "text/plain": [
       "<Figure size 482.75x360 with 1 Axes>"
      ]
     },
     "metadata": {
      "needs_background": "light"
     },
     "output_type": "display_data"
    },
    {
     "data": {
      "image/png": "[encoded data removed]",
      "text/plain": [
       "<Figure size 448x360 with 1 Axes>"
      ]
     },
     "metadata": {
      "needs_background": "light"
     },
     "output_type": "display_data"
    },
    {
     "data": {
      "image/png": "[encoded data removed]",
      "text/plain": [
       "<Figure size 491.25x360 with 1 Axes>"
      ]
     },
     "metadata": {
      "needs_background": "light"
     },
     "output_type": "display_data"
    },
    {
     "data": {
      "image/png": "[encoded data removed]",
      "text/plain": [
       "<Figure size 491.25x360 with 1 Axes>"
      ]
     },
     "metadata": {
      "needs_background": "light"
     },
     "output_type": "display_data"
    },
    {
     "data": {
      "image/png": "[encoded data removed]",
      "text/plain": [
       "<Figure size 491.25x360 with 1 Axes>"
      ]
     },
     "metadata": {
      "needs_background": "light"
     },
     "output_type": "display_data"
    },
    {
     "data": {
      "image/png": "[encoded data removed]",
      "text/plain": [
       "<Figure size 491.25x360 with 1 Axes>"
      ]
     },
     "metadata": {
      "needs_background": "light"
     },
     "output_type": "display_data"
    },
    {
     "data": {
      "image/png": "[encoded data removed]",
      "text/plain": [
       "<Figure size 491.25x360 with 1 Axes>"
      ]
     },
     "metadata": {
      "needs_background": "light"
     },
     "output_type": "display_data"
    },
    {
     "data": {
      "image/png": "[encoded data removed]",
      "text/plain": [
       "<Figure size 491.25x360 with 1 Axes>"
      ]
     },
     "metadata": {
      "needs_background": "light"
     },
     "output_type": "display_data"
    },
    {
     "data": {
      "image/png": "[encoded data removed]",
      "text/plain": [
       "<Figure size 476.75x360 with 1 Axes>"
      ]
     },
     "metadata": {
      "needs_background": "light"
     },
     "output_type": "display_data"
    },
    {
     "data": {
      "image/png": "[encoded data removed]",
      "text/plain": [
       "<Figure size 446.75x360 with 1 Axes>"
      ]
     },
     "metadata": {
      "needs_background": "light"
     },
     "output_type": "display_data"
    },
    {
     "data": {
      "image/png": "[encoded data removed]",
      "text/plain": [
       "<Figure size 525.125x360 with 1 Axes>"
      ]
     },
     "metadata": {
      "needs_background": "light"
     },
     "output_type": "display_data"
    },
    {
     "data": {
      "image/png": "[encoded data removed]",
      "text/plain": [
       "<Figure size 435.5x360 with 1 Axes>"
      ]
     },
     "metadata": {
      "needs_background": "light"
     },
     "output_type": "display_data"
    }
   ],
   "source": [
    "for col in cat_feature:\n",
    "    x,y = 'Churn', col\n",
    "\n",
    "    (df\n",
    "    .groupby(x)[y]\n",
    "    .value_counts(normalize=True)\n",
    "    .mul(100)\n",
    "    .rename('percent')\n",
    "    .reset_index()\n",
    "    .pipe((sns.catplot,'data'), x=x,y='percent',hue=y,kind='bar'))\n",
    "\n",
    "    plt.show()"
   ]
  },
  {
   "cell_type": "markdown",
   "metadata": {
    "papermill": {
     "duration": 0.06353,
     "end_time": "2020-12-30T07:53:14.484035",
     "exception": false,
     "start_time": "2020-12-30T07:53:14.420505",
     "status": "completed"
    },
    "tags": []
   },
   "source": [
    "**Key statistics**:\n",
    "1. Single/no-partner customer dominates the churn customer set, reversely where customers with `Partner` dominates the non-churn customer set.\n",
    "2. Customers that used `Fiber optic` as `InternetService` dominates (~70%) the churn customers, whereas it is not the case in non-churn customers i.e. more uniformly distributed; ~35% Fiber optic in non-churn customers.\n",
    "3. ~80% of churn customers did not use `OnlineSecurity` on their InternetService. Additionaly, ~65% churn customers did not use `OnlineBackup`, ~63% did not use `DeviceProtection`\n",
    "4. ~80% of churn customers did not use `TechSupport`.\n",
    "5. ~85% of churn customers used `Month-to-month` contract.\n",
    "6. ~60% of churn customers used `Electronic check` as `PaymentMethod`, whereas it is not the case in non-churn customers i.e. more uniformly distributed; ~25% Electronic check in non-churn customers\n",
    "7. ~42% of churn customers have tenure less than 6 months.\n",
    "\n",
    "**Insights and Recommendations**:\n",
    "1. There is a correlation between **security services** and **churn**. The statistics show that most churn customers did not use security/protection services (`OnlineSecurity`, `OnlineBackup` and `DeviceProtection`). It needs to be investigated why they did not use the security services; is it due their lack of awareness of security services, or lack of trust etc. Afterwards, we can launch campaign that increase awareness/trust on security services that might lead to decrease on the churn rate.\n",
    "2. Majority of churn customers did not use `TechSupport`, which also might correlate #1 insight. It might probable that customers are only aware with security services or able to activate the security services once they talk to TechSupport. The onboarding process of security services might need to be relooked whether it is easy enough for the user to subscribe the security services without talking to TechSupport. *Alternatively*, we should look the problem in **wider** perspectives that some customers might be frustrated with the **general services**, not only security services. Instead of talking to TechSupport, they decided to churn instead. TechSupport might need to be made more accessible to the customers in order to reduce the churn rate.\n",
    "3. Majority of churn customers used `Month-to-month` contract, which make them easier to terminate the contract at any time. We need to beware of the quality of our services since `One year` and `Two year` might also want to terminate the services once the contract ends and we need to retent them in our platform. Those who signed up with `Month-to-month` might have already intention to do trial with the services without committing long-term contract."
   ]
  },
  {
   "cell_type": "markdown",
   "metadata": {
    "papermill": {
     "duration": 0.06457,
     "end_time": "2020-12-30T07:53:14.613507",
     "exception": false,
     "start_time": "2020-12-30T07:53:14.548937",
     "status": "completed"
    },
    "tags": []
   },
   "source": [
    "Connecting insights on `MonthlyCharges` with service selection, based on the data that we have, we learnt that actually churn customers use less number of services since most of them did not use security services. However, there is still one possible explanation that why churn customers ended up paying more due to their `InternetService` selection, whereas most of churn customers selected `Fiber optic`. Let's validate our hypothesis that `MonthlyCharges` differences came from InternetService selection."
   ]
  },
  {
   "cell_type": "code",
   "execution_count": 17,
   "metadata": {
    "execution": {
     "iopub.execute_input": "2020-12-30T07:53:14.751301Z",
     "iopub.status.busy": "2020-12-30T07:53:14.750456Z",
     "iopub.status.idle": "2020-12-30T07:53:14.899532Z",
     "shell.execute_reply": "2020-12-30T07:53:14.898871Z"
    },
    "papermill": {
     "duration": 0.219917,
     "end_time": "2020-12-30T07:53:14.899650",
     "exception": false,
     "start_time": "2020-12-30T07:53:14.679733",
     "status": "completed"
    },
    "tags": []
   },
   "outputs": [
    {
     "data": {
      "text/plain": [
       "<matplotlib.axes._subplots.AxesSubplot at 0x7feb8c27ebd0>"
      ]
     },
     "execution_count": 17,
     "metadata": {},
     "output_type": "execute_result"
    },
    {
     "data": {
      "image/png": "[encoded data removed]",
      "text/plain": [
       "<Figure size 432x288 with 1 Axes>"
      ]
     },
     "metadata": {
      "needs_background": "light"
     },
     "output_type": "display_data"
    }
   ],
   "source": [
    "# Compare the MonthlyCharges between InternetService\n",
    "sns.boxplot(x='InternetService',y='MonthlyCharges',data=df)"
   ]
  },
  {
   "cell_type": "markdown",
   "metadata": {
    "papermill": {
     "duration": 0.067121,
     "end_time": "2020-12-30T07:53:15.033418",
     "exception": false,
     "start_time": "2020-12-30T07:53:14.966297",
     "status": "completed"
    },
    "tags": []
   },
   "source": [
    "It is confirmed that `MonthlyCharges` differences came from `InternetService` selection since `Fiber optic` price is significantly higher compared to `DSL` and `No internet service`. This explains why churn customers ended up paying more `MonthlyCharges`. Then, it is logical to assess the quality and the pricing of of `Fiber optic` since it is our premium service, whether we give sufficient quality for the price that they pay, enough awareness and easy onboarding for security services etc."
   ]
  },
  {
   "cell_type": "markdown",
   "metadata": {
    "papermill": {
     "duration": 0.071395,
     "end_time": "2020-12-30T07:53:15.171255",
     "exception": false,
     "start_time": "2020-12-30T07:53:15.099860",
     "status": "completed"
    },
    "tags": []
   },
   "source": [
    "## Data Cleansing"
   ]
  },
  {
   "cell_type": "markdown",
   "metadata": {
    "papermill": {
     "duration": 0.066788,
     "end_time": "2020-12-30T07:53:15.305202",
     "exception": false,
     "start_time": "2020-12-30T07:53:15.238414",
     "status": "completed"
    },
    "tags": []
   },
   "source": [
    "`TotalCharges` is stored as string. There are 11 rows stored TotalCharges that could not be casted as float and turned out they have missing values. I decided to remove those 11 rows since it is a small number and all of them are non-churn customers (majority class)."
   ]
  },
  {
   "cell_type": "code",
   "execution_count": 18,
   "metadata": {
    "execution": {
     "iopub.execute_input": "2020-12-30T07:53:15.454643Z",
     "iopub.status.busy": "2020-12-30T07:53:15.453982Z",
     "iopub.status.idle": "2020-12-30T07:53:15.459397Z",
     "shell.execute_reply": "2020-12-30T07:53:15.458818Z"
    },
    "papermill": {
     "duration": 0.087295,
     "end_time": "2020-12-30T07:53:15.459497",
     "exception": false,
     "start_time": "2020-12-30T07:53:15.372202",
     "status": "completed"
    },
    "tags": []
   },
   "outputs": [
    {
     "data": {
      "text/html": [
       "<div>\n",
       "<style scoped>\n",
       "    .dataframe tbody tr th:only-of-type {\n",
       "        vertical-align: middle;\n",
       "    }\n",
       "\n",
       "    .dataframe tbody tr th {\n",
       "        vertical-align: top;\n",
       "    }\n",
       "\n",
       "    .dataframe thead th {\n",
       "        text-align: right;\n",
       "    }\n",
       "</style>\n",
       "<table border=\"1\" class=\"dataframe\">\n",
       "  <thead>\n",
       "    <tr style=\"text-align: right;\">\n",
       "      <th></th>\n",
       "      <th>TotalCharges</th>\n",
       "      <th>Churn</th>\n",
       "    </tr>\n",
       "  </thead>\n",
       "  <tbody>\n",
       "    <tr>\n",
       "      <th>488</th>\n",
       "      <td></td>\n",
       "      <td>No</td>\n",
       "    </tr>\n",
       "    <tr>\n",
       "      <th>753</th>\n",
       "      <td></td>\n",
       "      <td>No</td>\n",
       "    </tr>\n",
       "    <tr>\n",
       "      <th>936</th>\n",
       "      <td></td>\n",
       "      <td>No</td>\n",
       "    </tr>\n",
       "    <tr>\n",
       "      <th>1082</th>\n",
       "      <td></td>\n",
       "      <td>No</td>\n",
       "    </tr>\n",
       "    <tr>\n",
       "      <th>1340</th>\n",
       "      <td></td>\n",
       "      <td>No</td>\n",
       "    </tr>\n",
       "    <tr>\n",
       "      <th>3331</th>\n",
       "      <td></td>\n",
       "      <td>No</td>\n",
       "    </tr>\n",
       "    <tr>\n",
       "      <th>3826</th>\n",
       "      <td></td>\n",
       "      <td>No</td>\n",
       "    </tr>\n",
       "    <tr>\n",
       "      <th>4380</th>\n",
       "      <td></td>\n",
       "      <td>No</td>\n",
       "    </tr>\n",
       "    <tr>\n",
       "      <th>5218</th>\n",
       "      <td></td>\n",
       "      <td>No</td>\n",
       "    </tr>\n",
       "    <tr>\n",
       "      <th>6670</th>\n",
       "      <td></td>\n",
       "      <td>No</td>\n",
       "    </tr>\n",
       "    <tr>\n",
       "      <th>6754</th>\n",
       "      <td></td>\n",
       "      <td>No</td>\n",
       "    </tr>\n",
       "  </tbody>\n",
       "</table>\n",
       "</div>"
      ],
      "text/plain": [
       "     TotalCharges Churn\n",
       "488                  No\n",
       "753                  No\n",
       "936                  No\n",
       "1082                 No\n",
       "1340                 No\n",
       "3331                 No\n",
       "3826                 No\n",
       "4380                 No\n",
       "5218                 No\n",
       "6670                 No\n",
       "6754                 No"
      ]
     },
     "execution_count": 18,
     "metadata": {},
     "output_type": "execute_result"
    }
   ],
   "source": [
    "df[pd.to_numeric(df['TotalCharges'], errors='coerce').isna()][['TotalCharges','Churn']]"
   ]
  },
  {
   "cell_type": "code",
   "execution_count": 19,
   "metadata": {
    "execution": {
     "iopub.execute_input": "2020-12-30T07:53:15.601181Z",
     "iopub.status.busy": "2020-12-30T07:53:15.600285Z",
     "iopub.status.idle": "2020-12-30T07:53:15.604704Z",
     "shell.execute_reply": "2020-12-30T07:53:15.604025Z"
    },
    "papermill": {
     "duration": 0.078924,
     "end_time": "2020-12-30T07:53:15.604803",
     "exception": false,
     "start_time": "2020-12-30T07:53:15.525879",
     "status": "completed"
    },
    "tags": []
   },
   "outputs": [],
   "source": [
    "# Cast TotalCharges as float\n",
    "df['TotalCharges'] = pd.to_numeric(df['TotalCharges'], errors='coerce')"
   ]
  },
  {
   "cell_type": "code",
   "execution_count": 20,
   "metadata": {
    "execution": {
     "iopub.execute_input": "2020-12-30T07:53:15.744436Z",
     "iopub.status.busy": "2020-12-30T07:53:15.743762Z",
     "iopub.status.idle": "2020-12-30T07:53:15.750504Z",
     "shell.execute_reply": "2020-12-30T07:53:15.749819Z"
    },
    "papermill": {
     "duration": 0.078737,
     "end_time": "2020-12-30T07:53:15.750609",
     "exception": false,
     "start_time": "2020-12-30T07:53:15.671872",
     "status": "completed"
    },
    "tags": []
   },
   "outputs": [],
   "source": [
    "# Remove rows with missing TotalCharges\n",
    "df = df[df.TotalCharges.notna()]"
   ]
  },
  {
   "cell_type": "code",
   "execution_count": 21,
   "metadata": {
    "execution": {
     "iopub.execute_input": "2020-12-30T07:53:15.897087Z",
     "iopub.status.busy": "2020-12-30T07:53:15.896341Z",
     "iopub.status.idle": "2020-12-30T07:53:15.904957Z",
     "shell.execute_reply": "2020-12-30T07:53:15.904323Z"
    },
    "papermill": {
     "duration": 0.086496,
     "end_time": "2020-12-30T07:53:15.905062",
     "exception": false,
     "start_time": "2020-12-30T07:53:15.818566",
     "status": "completed"
    },
    "tags": []
   },
   "outputs": [
    {
     "data": {
      "text/plain": [
       "customerID          7032\n",
       "gender              7032\n",
       "SeniorCitizen       7032\n",
       "Partner             7032\n",
       "Dependents          7032\n",
       "tenure              7032\n",
       "PhoneService        7032\n",
       "MultipleLines       7032\n",
       "InternetService     7032\n",
       "OnlineSecurity      7032\n",
       "OnlineBackup        7032\n",
       "DeviceProtection    7032\n",
       "TechSupport         7032\n",
       "StreamingTV         7032\n",
       "StreamingMovies     7032\n",
       "Contract            7032\n",
       "PaperlessBilling    7032\n",
       "PaymentMethod       7032\n",
       "MonthlyCharges      7032\n",
       "TotalCharges        7032\n",
       "Churn               7032\n",
       "tenure_bin          7032\n",
       "dtype: int64"
      ]
     },
     "execution_count": 21,
     "metadata": {},
     "output_type": "execute_result"
    }
   ],
   "source": [
    "df.count()"
   ]
  },
  {
   "cell_type": "code",
   "execution_count": 22,
   "metadata": {
    "execution": {
     "iopub.execute_input": "2020-12-30T07:53:16.053603Z",
     "iopub.status.busy": "2020-12-30T07:53:16.052905Z",
     "iopub.status.idle": "2020-12-30T07:53:16.269698Z",
     "shell.execute_reply": "2020-12-30T07:53:16.269045Z"
    },
    "papermill": {
     "duration": 0.29272,
     "end_time": "2020-12-30T07:53:16.269804",
     "exception": false,
     "start_time": "2020-12-30T07:53:15.977084",
     "status": "completed"
    },
    "tags": []
   },
   "outputs": [
    {
     "data": {
      "image/png": "[encoded data removed]",
      "text/plain": [
       "<Figure size 432x288 with 1 Axes>"
      ]
     },
     "metadata": {
      "needs_background": "light"
     },
     "output_type": "display_data"
    }
   ],
   "source": [
    "sns.violinplot(x='Churn',y='TotalCharges',data=df)\n",
    "plt.show()"
   ]
  },
  {
   "cell_type": "code",
   "execution_count": 23,
   "metadata": {
    "execution": {
     "iopub.execute_input": "2020-12-30T07:53:16.414339Z",
     "iopub.status.busy": "2020-12-30T07:53:16.413716Z",
     "iopub.status.idle": "2020-12-30T07:53:16.422478Z",
     "shell.execute_reply": "2020-12-30T07:53:16.421937Z"
    },
    "papermill": {
     "duration": 0.08395,
     "end_time": "2020-12-30T07:53:16.422586",
     "exception": false,
     "start_time": "2020-12-30T07:53:16.338636",
     "status": "completed"
    },
    "tags": []
   },
   "outputs": [
    {
     "data": {
      "text/plain": [
       "count    7032.000000\n",
       "mean     2283.300441\n",
       "std      2266.771362\n",
       "min        18.800000\n",
       "25%       401.450000\n",
       "50%      1397.475000\n",
       "75%      3794.737500\n",
       "max      8684.800000\n",
       "Name: TotalCharges, dtype: float64"
      ]
     },
     "execution_count": 23,
     "metadata": {},
     "output_type": "execute_result"
    }
   ],
   "source": [
    "df.TotalCharges.describe()"
   ]
  },
  {
   "cell_type": "markdown",
   "metadata": {
    "papermill": {
     "duration": 0.067738,
     "end_time": "2020-12-30T07:53:16.558587",
     "exception": false,
     "start_time": "2020-12-30T07:53:16.490849",
     "status": "completed"
    },
    "tags": []
   },
   "source": [
    "## Feature Engineering"
   ]
  },
  {
   "cell_type": "code",
   "execution_count": 24,
   "metadata": {
    "execution": {
     "iopub.execute_input": "2020-12-30T07:53:16.703487Z",
     "iopub.status.busy": "2020-12-30T07:53:16.702678Z",
     "iopub.status.idle": "2020-12-30T07:53:16.706066Z",
     "shell.execute_reply": "2020-12-30T07:53:16.705414Z"
    },
    "papermill": {
     "duration": 0.080003,
     "end_time": "2020-12-30T07:53:16.706234",
     "exception": false,
     "start_time": "2020-12-30T07:53:16.626231",
     "status": "completed"
    },
    "tags": []
   },
   "outputs": [],
   "source": [
    "df['Single'] = (df.Dependents + df.Partner == 0)*1"
   ]
  },
  {
   "cell_type": "code",
   "execution_count": 25,
   "metadata": {
    "execution": {
     "iopub.execute_input": "2020-12-30T07:53:16.924529Z",
     "iopub.status.busy": "2020-12-30T07:53:16.919428Z",
     "iopub.status.idle": "2020-12-30T07:53:16.929495Z",
     "shell.execute_reply": "2020-12-30T07:53:16.930087Z"
    },
    "papermill": {
     "duration": 0.121527,
     "end_time": "2020-12-30T07:53:16.930239",
     "exception": false,
     "start_time": "2020-12-30T07:53:16.808712",
     "status": "completed"
    },
    "tags": []
   },
   "outputs": [],
   "source": [
    "def feat_engg(df):\n",
    "    df['Churn'] = (df.Churn=='Yes')*1\n",
    "    df['Female'] = (df.gender == 'Female')*1\n",
    "    df['Partner'] = (df.Partner=='Yes')*1\n",
    "    df['Dependents'] = (df.Dependents=='Yes')*1\n",
    "    df['PhoneService'] = (df.PhoneService=='Yes')*1\n",
    "    df['MultipleLines'] = (df.MultipleLines=='Yes')*1\n",
    "    df = pd.concat([df, pd.get_dummies(df.InternetService, prefix='InternetService').drop('InternetService_No',axis=1)], axis=1)\n",
    "    df['OnlineSecurity'] = (df.OnlineSecurity=='Yes')*1\n",
    "    df['OnlineBackup'] = (df.OnlineBackup=='Yes')*1\n",
    "    df['DeviceProtection'] = (df.DeviceProtection=='Yes')*1\n",
    "    df['TechSupport'] = (df.TechSupport=='Yes')*1\n",
    "    df['StreamingTV'] = (df.StreamingTV=='Yes')*1\n",
    "    df['StreamingMovies'] = (df.StreamingMovies=='Yes')*1\n",
    "    df = pd.concat([df, pd.get_dummies(df.Contract, prefix='Contract', drop_first=True)], axis=1)\n",
    "    df['PaperlessBilling'] = (df.PaperlessBilling=='Yes')*1\n",
    "    df = pd.concat([df, pd.get_dummies(df.PaymentMethod, prefix='PaymentMethod', drop_first=True)], axis=1)\n",
    "    df = pd.concat([df, pd.get_dummies(df.tenure_bin, prefix='tenure_bin')], axis=1)\n",
    "    df['Sum_of_internet_services'] = df.OnlineSecurity + df.OnlineBackup + df.DeviceProtection + df.StreamingTV + df.StreamingMovies + df.TechSupport\n",
    "    df['Single'] = (df.Dependents + df.Partner == 0)*1\n",
    "    # Drop unnecessary columns\n",
    "    df = df.drop(['customerID','gender','InternetService','Contract','PaymentMethod','tenure_bin'],axis=1)\n",
    "    return df\n",
    "    "
   ]
  },
  {
   "cell_type": "code",
   "execution_count": 26,
   "metadata": {
    "execution": {
     "iopub.execute_input": "2020-12-30T07:53:17.079288Z",
     "iopub.status.busy": "2020-12-30T07:53:17.074836Z",
     "iopub.status.idle": "2020-12-30T07:53:17.128622Z",
     "shell.execute_reply": "2020-12-30T07:53:17.127947Z"
    },
    "papermill": {
     "duration": 0.129033,
     "end_time": "2020-12-30T07:53:17.128727",
     "exception": false,
     "start_time": "2020-12-30T07:53:16.999694",
     "status": "completed"
    },
    "tags": []
   },
   "outputs": [],
   "source": [
    "engg_df = feat_engg(df)"
   ]
  },
  {
   "cell_type": "code",
   "execution_count": 27,
   "metadata": {
    "execution": {
     "iopub.execute_input": "2020-12-30T07:53:17.286330Z",
     "iopub.status.busy": "2020-12-30T07:53:17.277741Z",
     "iopub.status.idle": "2020-12-30T07:53:17.291612Z",
     "shell.execute_reply": "2020-12-30T07:53:17.291015Z"
    },
    "papermill": {
     "duration": 0.093398,
     "end_time": "2020-12-30T07:53:17.291716",
     "exception": false,
     "start_time": "2020-12-30T07:53:17.198318",
     "status": "completed"
    },
    "tags": []
   },
   "outputs": [
    {
     "data": {
      "text/html": [
       "<div>\n",
       "<style scoped>\n",
       "    .dataframe tbody tr th:only-of-type {\n",
       "        vertical-align: middle;\n",
       "    }\n",
       "\n",
       "    .dataframe tbody tr th {\n",
       "        vertical-align: top;\n",
       "    }\n",
       "\n",
       "    .dataframe thead th {\n",
       "        text-align: right;\n",
       "    }\n",
       "</style>\n",
       "<table border=\"1\" class=\"dataframe\">\n",
       "  <thead>\n",
       "    <tr style=\"text-align: right;\">\n",
       "      <th></th>\n",
       "      <th>SeniorCitizen</th>\n",
       "      <th>Partner</th>\n",
       "      <th>Dependents</th>\n",
       "      <th>tenure</th>\n",
       "      <th>PhoneService</th>\n",
       "      <th>MultipleLines</th>\n",
       "      <th>OnlineSecurity</th>\n",
       "      <th>OnlineBackup</th>\n",
       "      <th>DeviceProtection</th>\n",
       "      <th>TechSupport</th>\n",
       "      <th>...</th>\n",
       "      <th>tenure_bin_(18, 24]</th>\n",
       "      <th>tenure_bin_(24, 30]</th>\n",
       "      <th>tenure_bin_(30, 36]</th>\n",
       "      <th>tenure_bin_(36, 42]</th>\n",
       "      <th>tenure_bin_(42, 48]</th>\n",
       "      <th>tenure_bin_(48, 54]</th>\n",
       "      <th>tenure_bin_(54, 60]</th>\n",
       "      <th>tenure_bin_(60, 66]</th>\n",
       "      <th>tenure_bin_(66, 72]</th>\n",
       "      <th>Sum_of_internet_services</th>\n",
       "    </tr>\n",
       "  </thead>\n",
       "  <tbody>\n",
       "    <tr>\n",
       "      <th>0</th>\n",
       "      <td>0</td>\n",
       "      <td>1</td>\n",
       "      <td>0</td>\n",
       "      <td>1</td>\n",
       "      <td>0</td>\n",
       "      <td>0</td>\n",
       "      <td>0</td>\n",
       "      <td>1</td>\n",
       "      <td>0</td>\n",
       "      <td>0</td>\n",
       "      <td>...</td>\n",
       "      <td>0</td>\n",
       "      <td>0</td>\n",
       "      <td>0</td>\n",
       "      <td>0</td>\n",
       "      <td>0</td>\n",
       "      <td>0</td>\n",
       "      <td>0</td>\n",
       "      <td>0</td>\n",
       "      <td>0</td>\n",
       "      <td>1</td>\n",
       "    </tr>\n",
       "    <tr>\n",
       "      <th>1</th>\n",
       "      <td>0</td>\n",
       "      <td>0</td>\n",
       "      <td>0</td>\n",
       "      <td>34</td>\n",
       "      <td>1</td>\n",
       "      <td>0</td>\n",
       "      <td>1</td>\n",
       "      <td>0</td>\n",
       "      <td>1</td>\n",
       "      <td>0</td>\n",
       "      <td>...</td>\n",
       "      <td>0</td>\n",
       "      <td>0</td>\n",
       "      <td>1</td>\n",
       "      <td>0</td>\n",
       "      <td>0</td>\n",
       "      <td>0</td>\n",
       "      <td>0</td>\n",
       "      <td>0</td>\n",
       "      <td>0</td>\n",
       "      <td>2</td>\n",
       "    </tr>\n",
       "    <tr>\n",
       "      <th>2</th>\n",
       "      <td>0</td>\n",
       "      <td>0</td>\n",
       "      <td>0</td>\n",
       "      <td>2</td>\n",
       "      <td>1</td>\n",
       "      <td>0</td>\n",
       "      <td>1</td>\n",
       "      <td>1</td>\n",
       "      <td>0</td>\n",
       "      <td>0</td>\n",
       "      <td>...</td>\n",
       "      <td>0</td>\n",
       "      <td>0</td>\n",
       "      <td>0</td>\n",
       "      <td>0</td>\n",
       "      <td>0</td>\n",
       "      <td>0</td>\n",
       "      <td>0</td>\n",
       "      <td>0</td>\n",
       "      <td>0</td>\n",
       "      <td>2</td>\n",
       "    </tr>\n",
       "    <tr>\n",
       "      <th>3</th>\n",
       "      <td>0</td>\n",
       "      <td>0</td>\n",
       "      <td>0</td>\n",
       "      <td>45</td>\n",
       "      <td>0</td>\n",
       "      <td>0</td>\n",
       "      <td>1</td>\n",
       "      <td>0</td>\n",
       "      <td>1</td>\n",
       "      <td>1</td>\n",
       "      <td>...</td>\n",
       "      <td>0</td>\n",
       "      <td>0</td>\n",
       "      <td>0</td>\n",
       "      <td>0</td>\n",
       "      <td>1</td>\n",
       "      <td>0</td>\n",
       "      <td>0</td>\n",
       "      <td>0</td>\n",
       "      <td>0</td>\n",
       "      <td>3</td>\n",
       "    </tr>\n",
       "    <tr>\n",
       "      <th>4</th>\n",
       "      <td>0</td>\n",
       "      <td>0</td>\n",
       "      <td>0</td>\n",
       "      <td>2</td>\n",
       "      <td>1</td>\n",
       "      <td>0</td>\n",
       "      <td>0</td>\n",
       "      <td>0</td>\n",
       "      <td>0</td>\n",
       "      <td>0</td>\n",
       "      <td>...</td>\n",
       "      <td>0</td>\n",
       "      <td>0</td>\n",
       "      <td>0</td>\n",
       "      <td>0</td>\n",
       "      <td>0</td>\n",
       "      <td>0</td>\n",
       "      <td>0</td>\n",
       "      <td>0</td>\n",
       "      <td>0</td>\n",
       "      <td>0</td>\n",
       "    </tr>\n",
       "  </tbody>\n",
       "</table>\n",
       "<p>5 rows × 38 columns</p>\n",
       "</div>"
      ],
      "text/plain": [
       "   SeniorCitizen  Partner  Dependents  tenure  PhoneService  MultipleLines  \\\n",
       "0              0        1           0       1             0              0   \n",
       "1              0        0           0      34             1              0   \n",
       "2              0        0           0       2             1              0   \n",
       "3              0        0           0      45             0              0   \n",
       "4              0        0           0       2             1              0   \n",
       "\n",
       "   OnlineSecurity  OnlineBackup  DeviceProtection  TechSupport  ...  \\\n",
       "0               0             1                 0            0  ...   \n",
       "1               1             0                 1            0  ...   \n",
       "2               1             1                 0            0  ...   \n",
       "3               1             0                 1            1  ...   \n",
       "4               0             0                 0            0  ...   \n",
       "\n",
       "   tenure_bin_(18, 24]  tenure_bin_(24, 30]  tenure_bin_(30, 36]  \\\n",
       "0                    0                    0                    0   \n",
       "1                    0                    0                    1   \n",
       "2                    0                    0                    0   \n",
       "3                    0                    0                    0   \n",
       "4                    0                    0                    0   \n",
       "\n",
       "   tenure_bin_(36, 42]  tenure_bin_(42, 48]  tenure_bin_(48, 54]  \\\n",
       "0                    0                    0                    0   \n",
       "1                    0                    0                    0   \n",
       "2                    0                    0                    0   \n",
       "3                    0                    1                    0   \n",
       "4                    0                    0                    0   \n",
       "\n",
       "   tenure_bin_(54, 60]  tenure_bin_(60, 66]  tenure_bin_(66, 72]  \\\n",
       "0                    0                    0                    0   \n",
       "1                    0                    0                    0   \n",
       "2                    0                    0                    0   \n",
       "3                    0                    0                    0   \n",
       "4                    0                    0                    0   \n",
       "\n",
       "   Sum_of_internet_services  \n",
       "0                         1  \n",
       "1                         2  \n",
       "2                         2  \n",
       "3                         3  \n",
       "4                         0  \n",
       "\n",
       "[5 rows x 38 columns]"
      ]
     },
     "execution_count": 27,
     "metadata": {},
     "output_type": "execute_result"
    }
   ],
   "source": [
    "engg_df.head()"
   ]
  },
  {
   "cell_type": "code",
   "execution_count": 28,
   "metadata": {
    "execution": {
     "iopub.execute_input": "2020-12-30T07:53:17.439213Z",
     "iopub.status.busy": "2020-12-30T07:53:17.438442Z",
     "iopub.status.idle": "2020-12-30T07:53:17.443582Z",
     "shell.execute_reply": "2020-12-30T07:53:17.442958Z"
    },
    "papermill": {
     "duration": 0.080915,
     "end_time": "2020-12-30T07:53:17.443680",
     "exception": false,
     "start_time": "2020-12-30T07:53:17.362765",
     "status": "completed"
    },
    "tags": []
   },
   "outputs": [
    {
     "data": {
      "text/plain": [
       "(7032, 38)"
      ]
     },
     "execution_count": 28,
     "metadata": {},
     "output_type": "execute_result"
    }
   ],
   "source": [
    "engg_df.shape"
   ]
  },
  {
   "cell_type": "markdown",
   "metadata": {
    "papermill": {
     "duration": 0.071299,
     "end_time": "2020-12-30T07:53:17.586035",
     "exception": false,
     "start_time": "2020-12-30T07:53:17.514736",
     "status": "completed"
    },
    "tags": []
   },
   "source": [
    "## Split Training and Test Set"
   ]
  },
  {
   "cell_type": "code",
   "execution_count": 29,
   "metadata": {
    "execution": {
     "iopub.execute_input": "2020-12-30T07:53:17.736614Z",
     "iopub.status.busy": "2020-12-30T07:53:17.735905Z",
     "iopub.status.idle": "2020-12-30T07:53:17.741092Z",
     "shell.execute_reply": "2020-12-30T07:53:17.741598Z"
    },
    "papermill": {
     "duration": 0.085196,
     "end_time": "2020-12-30T07:53:17.741738",
     "exception": false,
     "start_time": "2020-12-30T07:53:17.656542",
     "status": "completed"
    },
    "tags": []
   },
   "outputs": [],
   "source": [
    "from sklearn.model_selection import train_test_split\n",
    "\n",
    "train, test = train_test_split(engg_df, test_size=0.30, random_state=42)"
   ]
  },
  {
   "cell_type": "code",
   "execution_count": 30,
   "metadata": {
    "execution": {
     "iopub.execute_input": "2020-12-30T07:53:17.891784Z",
     "iopub.status.busy": "2020-12-30T07:53:17.888796Z",
     "iopub.status.idle": "2020-12-30T07:53:17.897521Z",
     "shell.execute_reply": "2020-12-30T07:53:17.897019Z"
    },
    "papermill": {
     "duration": 0.084085,
     "end_time": "2020-12-30T07:53:17.897617",
     "exception": false,
     "start_time": "2020-12-30T07:53:17.813532",
     "status": "completed"
    },
    "tags": []
   },
   "outputs": [
    {
     "data": {
      "text/plain": [
       "0    3614\n",
       "1    1308\n",
       "Name: Churn, dtype: int64"
      ]
     },
     "execution_count": 30,
     "metadata": {},
     "output_type": "execute_result"
    }
   ],
   "source": [
    "train.Churn.value_counts()"
   ]
  },
  {
   "cell_type": "code",
   "execution_count": 31,
   "metadata": {
    "execution": {
     "iopub.execute_input": "2020-12-30T07:53:18.046446Z",
     "iopub.status.busy": "2020-12-30T07:53:18.044908Z",
     "iopub.status.idle": "2020-12-30T07:53:18.051953Z",
     "shell.execute_reply": "2020-12-30T07:53:18.051256Z"
    },
    "papermill": {
     "duration": 0.083535,
     "end_time": "2020-12-30T07:53:18.052110",
     "exception": false,
     "start_time": "2020-12-30T07:53:17.968575",
     "status": "completed"
    },
    "tags": []
   },
   "outputs": [
    {
     "data": {
      "text/plain": [
       "0    1549\n",
       "1     561\n",
       "Name: Churn, dtype: int64"
      ]
     },
     "execution_count": 31,
     "metadata": {},
     "output_type": "execute_result"
    }
   ],
   "source": [
    "test.Churn.value_counts()"
   ]
  },
  {
   "cell_type": "code",
   "execution_count": 32,
   "metadata": {
    "execution": {
     "iopub.execute_input": "2020-12-30T07:53:18.208816Z",
     "iopub.status.busy": "2020-12-30T07:53:18.207400Z",
     "iopub.status.idle": "2020-12-30T07:53:18.213434Z",
     "shell.execute_reply": "2020-12-30T07:53:18.212739Z"
    },
    "papermill": {
     "duration": 0.084928,
     "end_time": "2020-12-30T07:53:18.213539",
     "exception": false,
     "start_time": "2020-12-30T07:53:18.128611",
     "status": "completed"
    },
    "tags": []
   },
   "outputs": [
    {
     "name": "stdout",
     "output_type": "stream",
     "text": [
      "0.2657456318569687\n",
      "0.26587677725118486\n"
     ]
    }
   ],
   "source": [
    "# Sanity check to ensure base rate between train and test are similar\n",
    "print(len(train[train.Churn==1])/len(train))\n",
    "print(len(test[test.Churn==1])/len(test))"
   ]
  },
  {
   "cell_type": "markdown",
   "metadata": {
    "papermill": {
     "duration": 0.071576,
     "end_time": "2020-12-30T07:53:18.357849",
     "exception": false,
     "start_time": "2020-12-30T07:53:18.286273",
     "status": "completed"
    },
    "tags": []
   },
   "source": [
    "Base rate is similar."
   ]
  },
  {
   "cell_type": "markdown",
   "metadata": {
    "papermill": {
     "duration": 0.073336,
     "end_time": "2020-12-30T07:53:18.504389",
     "exception": false,
     "start_time": "2020-12-30T07:53:18.431053",
     "status": "completed"
    },
    "tags": []
   },
   "source": [
    "## Plot Features Correlation"
   ]
  },
  {
   "cell_type": "code",
   "execution_count": 33,
   "metadata": {
    "execution": {
     "iopub.execute_input": "2020-12-30T07:53:18.664875Z",
     "iopub.status.busy": "2020-12-30T07:53:18.664167Z",
     "iopub.status.idle": "2020-12-30T07:53:18.689065Z",
     "shell.execute_reply": "2020-12-30T07:53:18.688386Z"
    },
    "papermill": {
     "duration": 0.110769,
     "end_time": "2020-12-30T07:53:18.689215",
     "exception": false,
     "start_time": "2020-12-30T07:53:18.578446",
     "status": "completed"
    },
    "tags": []
   },
   "outputs": [
    {
     "data": {
      "text/plain": [
       "Churn                                    1.000000\n",
       "InternetService_Fiber optic              0.319334\n",
       "tenure_bin_(-1, 6]                       0.314846\n",
       "PaymentMethod_Electronic check           0.291697\n",
       "MonthlyCharges                           0.201495\n",
       "PaperlessBilling                         0.178155\n",
       "Single                                   0.159134\n",
       "SeniorCitizen                            0.155861\n",
       "tenure_bin_(6, 12]                       0.072685\n",
       "StreamingTV                              0.065352\n",
       "StreamingMovies                          0.063472\n",
       "MultipleLines                            0.041077\n",
       "tenure_bin_(12, 18]                      0.035695\n",
       "PhoneService                             0.018344\n",
       "Female                                   0.013879\n",
       "tenure_bin_(24, 30]                     -0.016771\n",
       "tenure_bin_(18, 24]                     -0.018756\n",
       "tenure_bin_(30, 36]                     -0.030368\n",
       "tenure_bin_(36, 42]                     -0.032117\n",
       "tenure_bin_(48, 54]                     -0.045944\n",
       "DeviceProtection                        -0.061407\n",
       "tenure_bin_(42, 48]                     -0.063505\n",
       "OnlineBackup                            -0.073844\n",
       "tenure_bin_(54, 60]                     -0.076667\n",
       "Sum_of_internet_services                -0.084015\n",
       "PaymentMethod_Mailed check              -0.092849\n",
       "tenure_bin_(60, 66]                     -0.106929\n",
       "InternetService_DSL                     -0.134018\n",
       "Partner                                 -0.139942\n",
       "PaymentMethod_Credit card (automatic)   -0.140054\n",
       "TechSupport                             -0.166938\n",
       "Dependents                              -0.170629\n",
       "OnlineSecurity                          -0.170993\n",
       "Contract_One year                       -0.188504\n",
       "tenure_bin_(66, 72]                     -0.195081\n",
       "TotalCharges                            -0.199486\n",
       "Contract_Two year                       -0.304700\n",
       "tenure                                  -0.356984\n",
       "Name: Churn, dtype: float64"
      ]
     },
     "execution_count": 33,
     "metadata": {},
     "output_type": "execute_result"
    }
   ],
   "source": [
    "# Feature correlation with target\n",
    "train.corr()['Churn'].sort_values(ascending=False)"
   ]
  },
  {
   "cell_type": "code",
   "execution_count": 34,
   "metadata": {
    "execution": {
     "iopub.execute_input": "2020-12-30T07:53:18.930408Z",
     "iopub.status.busy": "2020-12-30T07:53:18.923770Z",
     "iopub.status.idle": "2020-12-30T07:53:19.766126Z",
     "shell.execute_reply": "2020-12-30T07:53:19.765333Z"
    },
    "papermill": {
     "duration": 0.967063,
     "end_time": "2020-12-30T07:53:19.766295",
     "exception": false,
     "start_time": "2020-12-30T07:53:18.799232",
     "status": "completed"
    },
    "tags": []
   },
   "outputs": [
    {
     "data": {
      "text/plain": [
       "<matplotlib.axes._subplots.AxesSubplot at 0x7feb8c1e5ad0>"
      ]
     },
     "execution_count": 34,
     "metadata": {},
     "output_type": "execute_result"
    },
    {
     "data": {
      "image/png": "[encoded data removed]",
      "text/plain": [
       "<Figure size 1008x864 with 2 Axes>"
      ]
     },
     "metadata": {
      "needs_background": "light"
     },
     "output_type": "display_data"
    }
   ],
   "source": [
    "# Draw correlation heatmap\n",
    "colormap = plt.cm.RdBu\n",
    "plt.figure(figsize=(14,12))\n",
    "plt.title('Pearson Correlation of Features', y=1.05, size=15)\n",
    "sns.heatmap(train.astype(float).corr(),linewidths=0.1,vmax=1.0, \n",
    "            square=True, cmap=colormap, linecolor='white', annot=False)"
   ]
  },
  {
   "cell_type": "markdown",
   "metadata": {
    "papermill": {
     "duration": 0.079138,
     "end_time": "2020-12-30T07:53:19.958854",
     "exception": false,
     "start_time": "2020-12-30T07:53:19.879716",
     "status": "completed"
    },
    "tags": []
   },
   "source": [
    "The following features are decided to be removed:\n",
    "1. `Partner`: High correlation with `Single` and lesser correlated with `Churn`.\n",
    "2. `tenure`: Could be represented by `tenure_bin`\n",
    "\n",
    "Rest of highly correlated features are not removed and even expected:\n",
    "1. `tenure` is highly correlated with `TotalCharges`. The longer the customer is using the service, the bigger amount of accumulated charges.\n"
   ]
  },
  {
   "cell_type": "code",
   "execution_count": 35,
   "metadata": {
    "execution": {
     "iopub.execute_input": "2020-12-30T07:53:20.122459Z",
     "iopub.status.busy": "2020-12-30T07:53:20.121735Z",
     "iopub.status.idle": "2020-12-30T07:53:20.124991Z",
     "shell.execute_reply": "2020-12-30T07:53:20.124382Z"
    },
    "papermill": {
     "duration": 0.086823,
     "end_time": "2020-12-30T07:53:20.125089",
     "exception": false,
     "start_time": "2020-12-30T07:53:20.038266",
     "status": "completed"
    },
    "tags": []
   },
   "outputs": [],
   "source": [
    "# Remove highly correlated features\n",
    "removed_feat = ['Partner', 'tenure']"
   ]
  },
  {
   "cell_type": "code",
   "execution_count": 36,
   "metadata": {
    "execution": {
     "iopub.execute_input": "2020-12-30T07:53:20.290674Z",
     "iopub.status.busy": "2020-12-30T07:53:20.289987Z",
     "iopub.status.idle": "2020-12-30T07:53:20.293707Z",
     "shell.execute_reply": "2020-12-30T07:53:20.293183Z"
    },
    "papermill": {
     "duration": 0.0896,
     "end_time": "2020-12-30T07:53:20.293849",
     "exception": false,
     "start_time": "2020-12-30T07:53:20.204249",
     "status": "completed"
    },
    "tags": []
   },
   "outputs": [],
   "source": [
    "for df in [train,test]:\n",
    "    df = df.drop(removed_feat,axis=1)"
   ]
  },
  {
   "cell_type": "markdown",
   "metadata": {
    "papermill": {
     "duration": 0.078324,
     "end_time": "2020-12-30T07:53:20.450571",
     "exception": false,
     "start_time": "2020-12-30T07:53:20.372247",
     "status": "completed"
    },
    "tags": []
   },
   "source": [
    "## Model Selection"
   ]
  },
  {
   "cell_type": "code",
   "execution_count": 37,
   "metadata": {
    "execution": {
     "iopub.execute_input": "2020-12-30T07:53:20.615038Z",
     "iopub.status.busy": "2020-12-30T07:53:20.613791Z",
     "iopub.status.idle": "2020-12-30T07:53:20.618073Z",
     "shell.execute_reply": "2020-12-30T07:53:20.617392Z"
    },
    "papermill": {
     "duration": 0.088854,
     "end_time": "2020-12-30T07:53:20.618234",
     "exception": false,
     "start_time": "2020-12-30T07:53:20.529380",
     "status": "completed"
    },
    "tags": []
   },
   "outputs": [],
   "source": [
    "X = train.drop('Churn',axis=1)\n",
    "y = train.Churn"
   ]
  },
  {
   "cell_type": "code",
   "execution_count": 38,
   "metadata": {
    "execution": {
     "iopub.execute_input": "2020-12-30T07:53:20.780934Z",
     "iopub.status.busy": "2020-12-30T07:53:20.780121Z",
     "iopub.status.idle": "2020-12-30T07:53:20.784248Z",
     "shell.execute_reply": "2020-12-30T07:53:20.783542Z"
    },
    "papermill": {
     "duration": 0.087155,
     "end_time": "2020-12-30T07:53:20.784356",
     "exception": false,
     "start_time": "2020-12-30T07:53:20.697201",
     "status": "completed"
    },
    "tags": []
   },
   "outputs": [],
   "source": [
    "roc_auc={}\n",
    "pr_auc={}"
   ]
  },
  {
   "cell_type": "code",
   "execution_count": 39,
   "metadata": {
    "execution": {
     "iopub.execute_input": "2020-12-30T07:53:20.950467Z",
     "iopub.status.busy": "2020-12-30T07:53:20.949698Z",
     "iopub.status.idle": "2020-12-30T07:53:24.668813Z",
     "shell.execute_reply": "2020-12-30T07:53:24.668086Z"
    },
    "papermill": {
     "duration": 3.804198,
     "end_time": "2020-12-30T07:53:24.668946",
     "exception": false,
     "start_time": "2020-12-30T07:53:20.864748",
     "status": "completed"
    },
    "tags": []
   },
   "outputs": [],
   "source": [
    "# Random Forest\n",
    "from sklearn.ensemble import RandomForestClassifier\n",
    "rfc = RandomForestClassifier(random_state=42)\n",
    "scores = cross_validate(rfc,X,y,cv=5, n_jobs=-1, scoring=('roc_auc', 'average_precision'))\n",
    "roc_auc['RandomForest'] = np.mean(np.array(scores['test_roc_auc']))\n",
    "pr_auc['RandomForest'] = np.mean(np.array(scores['test_average_precision']))\n"
   ]
  },
  {
   "cell_type": "code",
   "execution_count": 40,
   "metadata": {
    "execution": {
     "iopub.execute_input": "2020-12-30T07:53:24.927500Z",
     "iopub.status.busy": "2020-12-30T07:53:24.926605Z",
     "iopub.status.idle": "2020-12-30T07:53:27.223876Z",
     "shell.execute_reply": "2020-12-30T07:53:27.223231Z"
    },
    "papermill": {
     "duration": 2.442549,
     "end_time": "2020-12-30T07:53:27.223980",
     "exception": false,
     "start_time": "2020-12-30T07:53:24.781431",
     "status": "completed"
    },
    "tags": []
   },
   "outputs": [],
   "source": [
    "# SVC\n",
    "from sklearn.svm import SVC\n",
    "\n",
    "svc = SVC(random_state=42)\n",
    "scores = cross_validate(svc,X,y,cv=5, n_jobs=-1, scoring=('roc_auc', 'average_precision'))\n",
    "roc_auc['SVC'] = np.mean(np.array(scores['test_roc_auc']))\n",
    "pr_auc['SVC'] = np.mean(np.array(scores['test_average_precision']))\n"
   ]
  },
  {
   "cell_type": "code",
   "execution_count": 41,
   "metadata": {
    "execution": {
     "iopub.execute_input": "2020-12-30T07:53:27.393128Z",
     "iopub.status.busy": "2020-12-30T07:53:27.392539Z",
     "iopub.status.idle": "2020-12-30T07:53:31.491836Z",
     "shell.execute_reply": "2020-12-30T07:53:31.491065Z"
    },
    "papermill": {
     "duration": 4.187996,
     "end_time": "2020-12-30T07:53:31.491974",
     "exception": false,
     "start_time": "2020-12-30T07:53:27.303978",
     "status": "completed"
    },
    "tags": []
   },
   "outputs": [],
   "source": [
    "# Xgbclassifier\n",
    "from xgboost import XGBClassifier\n",
    "\n",
    "xgb = XGBClassifier(random_state=42)\n",
    "scores = cross_validate(xgb,X.values,y,cv=5, n_jobs=-1, scoring=('roc_auc', 'average_precision')) #somehow model will turn Nan score due to naming convention in tenure_bin. hence, remove the column names\n",
    "roc_auc['XGBClassifier'] = np.mean(np.array(scores['test_roc_auc']))\n",
    "pr_auc['XGBClassifier'] = np.mean(np.array(scores['test_average_precision']))"
   ]
  },
  {
   "cell_type": "code",
   "execution_count": 42,
   "metadata": {
    "execution": {
     "iopub.execute_input": "2020-12-30T07:53:31.736744Z",
     "iopub.status.busy": "2020-12-30T07:53:31.735912Z",
     "iopub.status.idle": "2020-12-30T07:53:32.509453Z",
     "shell.execute_reply": "2020-12-30T07:53:32.508687Z"
    },
    "papermill": {
     "duration": 0.900485,
     "end_time": "2020-12-30T07:53:32.509592",
     "exception": false,
     "start_time": "2020-12-30T07:53:31.609107",
     "status": "completed"
    },
    "tags": []
   },
   "outputs": [
    {
     "data": {
      "text/html": [
       "<style type='text/css'>\n",
       ".datatable table.frame { margin-bottom: 0; }\n",
       ".datatable table.frame thead { border-bottom: none; }\n",
       ".datatable table.frame tr.coltypes td {  color: #FFFFFF;  line-height: 6px;  padding: 0 0.5em;}\n",
       ".datatable .bool    { background: #DDDD99; }\n",
       ".datatable .object  { background: #565656; }\n",
       ".datatable .int     { background: #5D9E5D; }\n",
       ".datatable .float   { background: #4040CC; }\n",
       ".datatable .str     { background: #CC4040; }\n",
       ".datatable .row_index {  background: var(--jp-border-color3);  border-right: 1px solid var(--jp-border-color0);  color: var(--jp-ui-font-color3);  font-size: 9px;}\n",
       ".datatable .frame tr.coltypes .row_index {  background: var(--jp-border-color0);}\n",
       ".datatable th:nth-child(2) { padding-left: 12px; }\n",
       ".datatable .hellipsis {  color: var(--jp-cell-editor-border-color);}\n",
       ".datatable .vellipsis {  background: var(--jp-layout-color0);  color: var(--jp-cell-editor-border-color);}\n",
       ".datatable .na {  color: var(--jp-cell-editor-border-color);  font-size: 80%;}\n",
       ".datatable .footer { font-size: 9px; }\n",
       ".datatable .frame_dimensions {  background: var(--jp-border-color3);  border-top: 1px solid var(--jp-border-color0);  color: var(--jp-ui-font-color3);  display: inline-block;  opacity: 0.6;  padding: 1px 10px 1px 5px;}\n",
       ".datatable .frame thead tr.colnames {  background-image: url('data:image/png;base64,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');  background-repeat: repeat-x;  background-size: 14px;  height: 28px;}\n",
       "</style>\n"
      ],
      "text/plain": [
       "<IPython.core.display.HTML object>"
      ]
     },
     "metadata": {},
     "output_type": "display_data"
    }
   ],
   "source": [
    "# LightGBM\n",
    "from lightgbm import LGBMClassifier\n",
    "\n",
    "lgbm = LGBMClassifier(random_state=42)\n",
    "scores = cross_validate(lgbm,X.values,y,cv=5, n_jobs=-1, scoring=('roc_auc', 'average_precision')) #somehow model will turn Nan score due to naming convention in tenure_bin. hence, remove the column names\n",
    "roc_auc['LGBMClassifier'] = np.mean(np.array(scores['test_roc_auc']))\n",
    "pr_auc['LGBMClassifier'] = np.mean(np.array(scores['test_average_precision']))"
   ]
  },
  {
   "cell_type": "code",
   "execution_count": 43,
   "metadata": {
    "execution": {
     "iopub.execute_input": "2020-12-30T07:53:32.746333Z",
     "iopub.status.busy": "2020-12-30T07:53:32.745461Z",
     "iopub.status.idle": "2020-12-30T07:53:33.011965Z",
     "shell.execute_reply": "2020-12-30T07:53:33.012942Z"
    },
    "papermill": {
     "duration": 0.389152,
     "end_time": "2020-12-30T07:53:33.013176",
     "exception": false,
     "start_time": "2020-12-30T07:53:32.624024",
     "status": "completed"
    },
    "tags": []
   },
   "outputs": [],
   "source": [
    "# Logistic Regression\n",
    "from sklearn.linear_model import LogisticRegression\n",
    "\n",
    "lr = LogisticRegression(random_state=42)\n",
    "scores = cross_validate(lr,X,y,cv=5, n_jobs=-1, scoring=('roc_auc', 'average_precision'))\n",
    "roc_auc['LogisticRegression'] = np.mean(np.array(scores['test_roc_auc']))\n",
    "pr_auc['LogisticRegression'] = np.mean(np.array(scores['test_average_precision']))"
   ]
  },
  {
   "cell_type": "code",
   "execution_count": 44,
   "metadata": {
    "execution": {
     "iopub.execute_input": "2020-12-30T07:53:33.262917Z",
     "iopub.status.busy": "2020-12-30T07:53:33.262275Z",
     "iopub.status.idle": "2020-12-30T07:53:33.384575Z",
     "shell.execute_reply": "2020-12-30T07:53:33.383841Z"
    },
    "papermill": {
     "duration": 0.244929,
     "end_time": "2020-12-30T07:53:33.384708",
     "exception": false,
     "start_time": "2020-12-30T07:53:33.139779",
     "status": "completed"
    },
    "tags": []
   },
   "outputs": [],
   "source": [
    "# KNeighborClassifier\n",
    "\n",
    "from sklearn.neighbors import KNeighborsClassifier\n",
    "\n",
    "knc = KNeighborsClassifier()\n",
    "scores = cross_validate(knc,X,y,cv=5, n_jobs=-1, scoring=('roc_auc', 'average_precision'))\n",
    "roc_auc['KNeighborsClassifier'] = np.mean(np.array(scores['test_roc_auc']))\n",
    "pr_auc['KNeighborsClassifier'] = np.mean(np.array(scores['test_average_precision']))"
   ]
  },
  {
   "cell_type": "code",
   "execution_count": 45,
   "metadata": {
    "execution": {
     "iopub.execute_input": "2020-12-30T07:53:33.623604Z",
     "iopub.status.busy": "2020-12-30T07:53:33.622910Z",
     "iopub.status.idle": "2020-12-30T07:53:33.628403Z",
     "shell.execute_reply": "2020-12-30T07:53:33.627894Z"
    },
    "papermill": {
     "duration": 0.129915,
     "end_time": "2020-12-30T07:53:33.628501",
     "exception": false,
     "start_time": "2020-12-30T07:53:33.498586",
     "status": "completed"
    },
    "tags": []
   },
   "outputs": [
    {
     "data": {
      "text/html": [
       "<div>\n",
       "<style scoped>\n",
       "    .dataframe tbody tr th:only-of-type {\n",
       "        vertical-align: middle;\n",
       "    }\n",
       "\n",
       "    .dataframe tbody tr th {\n",
       "        vertical-align: top;\n",
       "    }\n",
       "\n",
       "    .dataframe thead th {\n",
       "        text-align: right;\n",
       "    }\n",
       "</style>\n",
       "<table border=\"1\" class=\"dataframe\">\n",
       "  <thead>\n",
       "    <tr style=\"text-align: right;\">\n",
       "      <th></th>\n",
       "      <th>ROC-AUC</th>\n",
       "    </tr>\n",
       "  </thead>\n",
       "  <tbody>\n",
       "    <tr>\n",
       "      <th>LogisticRegression</th>\n",
       "      <td>0.845501</td>\n",
       "    </tr>\n",
       "    <tr>\n",
       "      <th>LGBMClassifier</th>\n",
       "      <td>0.837848</td>\n",
       "    </tr>\n",
       "    <tr>\n",
       "      <th>RandomForest</th>\n",
       "      <td>0.833062</td>\n",
       "    </tr>\n",
       "    <tr>\n",
       "      <th>XGBClassifier</th>\n",
       "      <td>0.826410</td>\n",
       "    </tr>\n",
       "    <tr>\n",
       "      <th>SVC</th>\n",
       "      <td>0.793501</td>\n",
       "    </tr>\n",
       "    <tr>\n",
       "      <th>KNeighborsClassifier</th>\n",
       "      <td>0.752295</td>\n",
       "    </tr>\n",
       "  </tbody>\n",
       "</table>\n",
       "</div>"
      ],
      "text/plain": [
       "                       ROC-AUC\n",
       "LogisticRegression    0.845501\n",
       "LGBMClassifier        0.837848\n",
       "RandomForest          0.833062\n",
       "XGBClassifier         0.826410\n",
       "SVC                   0.793501\n",
       "KNeighborsClassifier  0.752295"
      ]
     },
     "execution_count": 45,
     "metadata": {},
     "output_type": "execute_result"
    }
   ],
   "source": [
    "pd.DataFrame.from_dict(roc_auc,orient='index', columns=['ROC-AUC']).sort_values(by='ROC-AUC', ascending=False)"
   ]
  },
  {
   "cell_type": "code",
   "execution_count": 46,
   "metadata": {
    "execution": {
     "iopub.execute_input": "2020-12-30T07:53:33.798687Z",
     "iopub.status.busy": "2020-12-30T07:53:33.797894Z",
     "iopub.status.idle": "2020-12-30T07:53:33.803509Z",
     "shell.execute_reply": "2020-12-30T07:53:33.802832Z"
    },
    "papermill": {
     "duration": 0.09591,
     "end_time": "2020-12-30T07:53:33.803632",
     "exception": false,
     "start_time": "2020-12-30T07:53:33.707722",
     "status": "completed"
    },
    "tags": []
   },
   "outputs": [
    {
     "data": {
      "text/html": [
       "<div>\n",
       "<style scoped>\n",
       "    .dataframe tbody tr th:only-of-type {\n",
       "        vertical-align: middle;\n",
       "    }\n",
       "\n",
       "    .dataframe tbody tr th {\n",
       "        vertical-align: top;\n",
       "    }\n",
       "\n",
       "    .dataframe thead th {\n",
       "        text-align: right;\n",
       "    }\n",
       "</style>\n",
       "<table border=\"1\" class=\"dataframe\">\n",
       "  <thead>\n",
       "    <tr style=\"text-align: right;\">\n",
       "      <th></th>\n",
       "      <th>PR-AUC</th>\n",
       "    </tr>\n",
       "  </thead>\n",
       "  <tbody>\n",
       "    <tr>\n",
       "      <th>LogisticRegression</th>\n",
       "      <td>0.657278</td>\n",
       "    </tr>\n",
       "    <tr>\n",
       "      <th>LGBMClassifier</th>\n",
       "      <td>0.646325</td>\n",
       "    </tr>\n",
       "    <tr>\n",
       "      <th>RandomForest</th>\n",
       "      <td>0.633686</td>\n",
       "    </tr>\n",
       "    <tr>\n",
       "      <th>XGBClassifier</th>\n",
       "      <td>0.623466</td>\n",
       "    </tr>\n",
       "    <tr>\n",
       "      <th>SVC</th>\n",
       "      <td>0.601910</td>\n",
       "    </tr>\n",
       "    <tr>\n",
       "      <th>KNeighborsClassifier</th>\n",
       "      <td>0.501372</td>\n",
       "    </tr>\n",
       "  </tbody>\n",
       "</table>\n",
       "</div>"
      ],
      "text/plain": [
       "                        PR-AUC\n",
       "LogisticRegression    0.657278\n",
       "LGBMClassifier        0.646325\n",
       "RandomForest          0.633686\n",
       "XGBClassifier         0.623466\n",
       "SVC                   0.601910\n",
       "KNeighborsClassifier  0.501372"
      ]
     },
     "execution_count": 46,
     "metadata": {},
     "output_type": "execute_result"
    }
   ],
   "source": [
    "pd.DataFrame.from_dict(pr_auc,orient='index', columns=['PR-AUC']).sort_values(by='PR-AUC', ascending=False)"
   ]
  },
  {
   "cell_type": "markdown",
   "metadata": {
    "papermill": {
     "duration": 0.124722,
     "end_time": "2020-12-30T07:53:34.043632",
     "exception": false,
     "start_time": "2020-12-30T07:53:33.918910",
     "status": "completed"
    },
    "tags": []
   },
   "source": [
    "It turns out **Logistic Regression** is the most performing model to perform the classification which achieves highest ROC-AUC and PR-AUC score.\n",
    "Next, we will tune the hyperparameter for Logistic Regression"
   ]
  },
  {
   "cell_type": "markdown",
   "metadata": {
    "papermill": {
     "duration": 0.117716,
     "end_time": "2020-12-30T07:53:34.277844",
     "exception": false,
     "start_time": "2020-12-30T07:53:34.160128",
     "status": "completed"
    },
    "tags": []
   },
   "source": [
    "## Hyperparemeter finetuning"
   ]
  },
  {
   "cell_type": "code",
   "execution_count": 47,
   "metadata": {
    "execution": {
     "iopub.execute_input": "2020-12-30T07:53:34.516068Z",
     "iopub.status.busy": "2020-12-30T07:53:34.515468Z",
     "iopub.status.idle": "2020-12-30T07:53:34.518671Z",
     "shell.execute_reply": "2020-12-30T07:53:34.518171Z"
    },
    "papermill": {
     "duration": 0.123957,
     "end_time": "2020-12-30T07:53:34.518768",
     "exception": false,
     "start_time": "2020-12-30T07:53:34.394811",
     "status": "completed"
    },
    "tags": []
   },
   "outputs": [],
   "source": [
    "from scipy.stats import loguniform\n",
    "\n",
    "params = {\n",
    "    'penalty':['l1','l2','elasticnet'],\n",
    "    'C': loguniform(1e-3, 1000),\n",
    "    'solver':['newton-cg', 'lbfgs', 'liblinear']\n",
    "}"
   ]
  },
  {
   "cell_type": "code",
   "execution_count": 48,
   "metadata": {
    "execution": {
     "iopub.execute_input": "2020-12-30T07:53:34.688231Z",
     "iopub.status.busy": "2020-12-30T07:53:34.687594Z",
     "iopub.status.idle": "2020-12-30T07:53:34.691751Z",
     "shell.execute_reply": "2020-12-30T07:53:34.691097Z"
    },
    "papermill": {
     "duration": 0.094896,
     "end_time": "2020-12-30T07:53:34.691842",
     "exception": false,
     "start_time": "2020-12-30T07:53:34.596946",
     "status": "completed"
    },
    "tags": []
   },
   "outputs": [],
   "source": [
    "model = RandomizedSearchCV(lr, params, random_state=42, n_iter=300, scoring='roc_auc', n_jobs=-1, cv=5, refit=True)"
   ]
  },
  {
   "cell_type": "code",
   "execution_count": 49,
   "metadata": {
    "execution": {
     "iopub.execute_input": "2020-12-30T07:53:34.872410Z",
     "iopub.status.busy": "2020-12-30T07:53:34.871563Z",
     "iopub.status.idle": "2020-12-30T07:54:25.375900Z",
     "shell.execute_reply": "2020-12-30T07:54:25.375377Z"
    },
    "papermill": {
     "duration": 50.589746,
     "end_time": "2020-12-30T07:54:25.376011",
     "exception": false,
     "start_time": "2020-12-30T07:53:34.786265",
     "status": "completed"
    },
    "tags": []
   },
   "outputs": [],
   "source": [
    "# This process might take some time due to large number of iterations\n",
    "search = model.fit(X, y)"
   ]
  },
  {
   "cell_type": "code",
   "execution_count": 50,
   "metadata": {
    "execution": {
     "iopub.execute_input": "2020-12-30T07:54:25.542592Z",
     "iopub.status.busy": "2020-12-30T07:54:25.541820Z",
     "iopub.status.idle": "2020-12-30T07:54:25.546689Z",
     "shell.execute_reply": "2020-12-30T07:54:25.546000Z"
    },
    "papermill": {
     "duration": 0.090736,
     "end_time": "2020-12-30T07:54:25.546789",
     "exception": false,
     "start_time": "2020-12-30T07:54:25.456053",
     "status": "completed"
    },
    "tags": []
   },
   "outputs": [
    {
     "name": "stdout",
     "output_type": "stream",
     "text": [
      "{'C': 945.3387324408867, 'penalty': 'l2', 'solver': 'newton-cg'}\n",
      "0.8506988593059098\n"
     ]
    }
   ],
   "source": [
    "print(search.best_params_)\n",
    "print(search.best_score_)"
   ]
  },
  {
   "cell_type": "markdown",
   "metadata": {
    "papermill": {
     "duration": 0.080266,
     "end_time": "2020-12-30T07:54:25.707192",
     "exception": false,
     "start_time": "2020-12-30T07:54:25.626926",
     "status": "completed"
    },
    "tags": []
   },
   "source": [
    "We have found the best hyperparameter for the model and turns out there is no significant gain compared to non-finetuned model. We will use this model to predict the hold-out test set."
   ]
  },
  {
   "cell_type": "code",
   "execution_count": 51,
   "metadata": {
    "execution": {
     "iopub.execute_input": "2020-12-30T07:54:25.872121Z",
     "iopub.status.busy": "2020-12-30T07:54:25.871353Z",
     "iopub.status.idle": "2020-12-30T07:54:25.876053Z",
     "shell.execute_reply": "2020-12-30T07:54:25.875066Z"
    },
    "papermill": {
     "duration": 0.088637,
     "end_time": "2020-12-30T07:54:25.876253",
     "exception": false,
     "start_time": "2020-12-30T07:54:25.787616",
     "status": "completed"
    },
    "tags": []
   },
   "outputs": [],
   "source": [
    "best_model = search.best_estimator_"
   ]
  },
  {
   "cell_type": "code",
   "execution_count": 52,
   "metadata": {
    "execution": {
     "iopub.execute_input": "2020-12-30T07:54:26.137175Z",
     "iopub.status.busy": "2020-12-30T07:54:26.136474Z",
     "iopub.status.idle": "2020-12-30T07:54:26.142754Z",
     "shell.execute_reply": "2020-12-30T07:54:26.142074Z"
    },
    "papermill": {
     "duration": 0.145391,
     "end_time": "2020-12-30T07:54:26.142854",
     "exception": false,
     "start_time": "2020-12-30T07:54:25.997463",
     "status": "completed"
    },
    "tags": []
   },
   "outputs": [
    {
     "data": {
      "text/html": [
       "<div>\n",
       "<style scoped>\n",
       "    .dataframe tbody tr th:only-of-type {\n",
       "        vertical-align: middle;\n",
       "    }\n",
       "\n",
       "    .dataframe tbody tr th {\n",
       "        vertical-align: top;\n",
       "    }\n",
       "\n",
       "    .dataframe thead th {\n",
       "        text-align: right;\n",
       "    }\n",
       "</style>\n",
       "<table border=\"1\" class=\"dataframe\">\n",
       "  <thead>\n",
       "    <tr style=\"text-align: right;\">\n",
       "      <th></th>\n",
       "      <th>coef</th>\n",
       "    </tr>\n",
       "  </thead>\n",
       "  <tbody>\n",
       "    <tr>\n",
       "      <th>InternetService_Fiber optic</th>\n",
       "      <td>4.268952</td>\n",
       "    </tr>\n",
       "    <tr>\n",
       "      <th>tenure_bin_(66, 72]</th>\n",
       "      <td>2.495693</td>\n",
       "    </tr>\n",
       "    <tr>\n",
       "      <th>InternetService_DSL</th>\n",
       "      <td>2.057490</td>\n",
       "    </tr>\n",
       "    <tr>\n",
       "      <th>tenure_bin_(60, 66]</th>\n",
       "      <td>1.859290</td>\n",
       "    </tr>\n",
       "    <tr>\n",
       "      <th>tenure_bin_(54, 60]</th>\n",
       "      <td>1.496517</td>\n",
       "    </tr>\n",
       "    <tr>\n",
       "      <th>tenure_bin_(48, 54]</th>\n",
       "      <td>1.438868</td>\n",
       "    </tr>\n",
       "    <tr>\n",
       "      <th>tenure_bin_(42, 48]</th>\n",
       "      <td>0.614448</td>\n",
       "    </tr>\n",
       "    <tr>\n",
       "      <th>StreamingMovies</th>\n",
       "      <td>0.542059</td>\n",
       "    </tr>\n",
       "    <tr>\n",
       "      <th>PhoneService</th>\n",
       "      <td>0.539902</td>\n",
       "    </tr>\n",
       "    <tr>\n",
       "      <th>MultipleLines</th>\n",
       "      <td>0.539019</td>\n",
       "    </tr>\n",
       "    <tr>\n",
       "      <th>StreamingTV</th>\n",
       "      <td>0.531902</td>\n",
       "    </tr>\n",
       "    <tr>\n",
       "      <th>Partner</th>\n",
       "      <td>0.379414</td>\n",
       "    </tr>\n",
       "    <tr>\n",
       "      <th>tenure_bin_(36, 42]</th>\n",
       "      <td>0.373332</td>\n",
       "    </tr>\n",
       "    <tr>\n",
       "      <th>Sum_of_internet_services</th>\n",
       "      <td>0.278950</td>\n",
       "    </tr>\n",
       "    <tr>\n",
       "      <th>Single</th>\n",
       "      <td>0.259565</td>\n",
       "    </tr>\n",
       "    <tr>\n",
       "      <th>SeniorCitizen</th>\n",
       "      <td>0.253163</td>\n",
       "    </tr>\n",
       "    <tr>\n",
       "      <th>PaperlessBilling</th>\n",
       "      <td>0.221909</td>\n",
       "    </tr>\n",
       "    <tr>\n",
       "      <th>PaymentMethod_Electronic check</th>\n",
       "      <td>0.164379</td>\n",
       "    </tr>\n",
       "    <tr>\n",
       "      <th>Female</th>\n",
       "      <td>0.005303</td>\n",
       "    </tr>\n",
       "    <tr>\n",
       "      <th>TotalCharges</th>\n",
       "      <td>0.000073</td>\n",
       "    </tr>\n",
       "    <tr>\n",
       "      <th>DeviceProtection</th>\n",
       "      <td>-0.007397</td>\n",
       "    </tr>\n",
       "    <tr>\n",
       "      <th>MonthlyCharges</th>\n",
       "      <td>-0.050699</td>\n",
       "    </tr>\n",
       "    <tr>\n",
       "      <th>OnlineBackup</th>\n",
       "      <td>-0.099637</td>\n",
       "    </tr>\n",
       "    <tr>\n",
       "      <th>tenure</th>\n",
       "      <td>-0.101125</td>\n",
       "    </tr>\n",
       "    <tr>\n",
       "      <th>Dependents</th>\n",
       "      <td>-0.158424</td>\n",
       "    </tr>\n",
       "    <tr>\n",
       "      <th>PaymentMethod_Credit card (automatic)</th>\n",
       "      <td>-0.164924</td>\n",
       "    </tr>\n",
       "    <tr>\n",
       "      <th>PaymentMethod_Mailed check</th>\n",
       "      <td>-0.170630</td>\n",
       "    </tr>\n",
       "    <tr>\n",
       "      <th>TechSupport</th>\n",
       "      <td>-0.323722</td>\n",
       "    </tr>\n",
       "    <tr>\n",
       "      <th>OnlineSecurity</th>\n",
       "      <td>-0.364257</td>\n",
       "    </tr>\n",
       "    <tr>\n",
       "      <th>tenure_bin_(30, 36]</th>\n",
       "      <td>-0.400752</td>\n",
       "    </tr>\n",
       "    <tr>\n",
       "      <th>tenure_bin_(24, 30]</th>\n",
       "      <td>-0.785736</td>\n",
       "    </tr>\n",
       "    <tr>\n",
       "      <th>Contract_One year</th>\n",
       "      <td>-0.874634</td>\n",
       "    </tr>\n",
       "    <tr>\n",
       "      <th>tenure_bin_(18, 24]</th>\n",
       "      <td>-1.312682</td>\n",
       "    </tr>\n",
       "    <tr>\n",
       "      <th>tenure_bin_(12, 18]</th>\n",
       "      <td>-1.511427</td>\n",
       "    </tr>\n",
       "    <tr>\n",
       "      <th>tenure_bin_(-1, 6]</th>\n",
       "      <td>-1.566479</td>\n",
       "    </tr>\n",
       "    <tr>\n",
       "      <th>Contract_Two year</th>\n",
       "      <td>-1.628328</td>\n",
       "    </tr>\n",
       "    <tr>\n",
       "      <th>tenure_bin_(6, 12]</th>\n",
       "      <td>-1.786607</td>\n",
       "    </tr>\n",
       "  </tbody>\n",
       "</table>\n",
       "</div>"
      ],
      "text/plain": [
       "                                           coef\n",
       "InternetService_Fiber optic            4.268952\n",
       "tenure_bin_(66, 72]                    2.495693\n",
       "InternetService_DSL                    2.057490\n",
       "tenure_bin_(60, 66]                    1.859290\n",
       "tenure_bin_(54, 60]                    1.496517\n",
       "tenure_bin_(48, 54]                    1.438868\n",
       "tenure_bin_(42, 48]                    0.614448\n",
       "StreamingMovies                        0.542059\n",
       "PhoneService                           0.539902\n",
       "MultipleLines                          0.539019\n",
       "StreamingTV                            0.531902\n",
       "Partner                                0.379414\n",
       "tenure_bin_(36, 42]                    0.373332\n",
       "Sum_of_internet_services               0.278950\n",
       "Single                                 0.259565\n",
       "SeniorCitizen                          0.253163\n",
       "PaperlessBilling                       0.221909\n",
       "PaymentMethod_Electronic check         0.164379\n",
       "Female                                 0.005303\n",
       "TotalCharges                           0.000073\n",
       "DeviceProtection                      -0.007397\n",
       "MonthlyCharges                        -0.050699\n",
       "OnlineBackup                          -0.099637\n",
       "tenure                                -0.101125\n",
       "Dependents                            -0.158424\n",
       "PaymentMethod_Credit card (automatic) -0.164924\n",
       "PaymentMethod_Mailed check            -0.170630\n",
       "TechSupport                           -0.323722\n",
       "OnlineSecurity                        -0.364257\n",
       "tenure_bin_(30, 36]                   -0.400752\n",
       "tenure_bin_(24, 30]                   -0.785736\n",
       "Contract_One year                     -0.874634\n",
       "tenure_bin_(18, 24]                   -1.312682\n",
       "tenure_bin_(12, 18]                   -1.511427\n",
       "tenure_bin_(-1, 6]                    -1.566479\n",
       "Contract_Two year                     -1.628328\n",
       "tenure_bin_(6, 12]                    -1.786607"
      ]
     },
     "execution_count": 52,
     "metadata": {},
     "output_type": "execute_result"
    }
   ],
   "source": [
    "# Feature importance\n",
    "lr_coef = pd.DataFrame(best_model.coef_[0], index=X.columns.to_list(), columns=['coef'])\n",
    "lr_coef.sort_values('coef', ascending=False)"
   ]
  },
  {
   "cell_type": "markdown",
   "metadata": {
    "papermill": {
     "duration": 0.080854,
     "end_time": "2020-12-30T07:54:26.309946",
     "exception": false,
     "start_time": "2020-12-30T07:54:26.229092",
     "status": "completed"
    },
    "tags": []
   },
   "source": [
    "## Predict Hold-out Test Set"
   ]
  },
  {
   "cell_type": "code",
   "execution_count": 53,
   "metadata": {
    "execution": {
     "iopub.execute_input": "2020-12-30T07:54:26.480215Z",
     "iopub.status.busy": "2020-12-30T07:54:26.477919Z",
     "iopub.status.idle": "2020-12-30T07:54:26.650400Z",
     "shell.execute_reply": "2020-12-30T07:54:26.649842Z"
    },
    "papermill": {
     "duration": 0.259682,
     "end_time": "2020-12-30T07:54:26.650502",
     "exception": false,
     "start_time": "2020-12-30T07:54:26.390820",
     "status": "completed"
    },
    "tags": []
   },
   "outputs": [
    {
     "name": "stdout",
     "output_type": "stream",
     "text": [
      "accuracy:  0.7976303317535545\n",
      "confusion_matrix:  <sklearn.metrics._plot.confusion_matrix.ConfusionMatrixDisplay object at 0x7feb743ac510>\n"
     ]
    },
    {
     "data": {
      "image/png": "[encoded data removed]",
      "text/plain": [
       "<Figure size 432x288 with 2 Axes>"
      ]
     },
     "metadata": {
      "needs_background": "light"
     },
     "output_type": "display_data"
    }
   ],
   "source": [
    "pred = best_model.predict(test.drop('Churn',axis=1))\n",
    "print('accuracy: ',accuracy_score(test.Churn.values,pred))\n",
    "print('confusion_matrix: ',plot_confusion_matrix(best_model,test.drop('Churn',axis=1),test.Churn.values))"
   ]
  },
  {
   "cell_type": "markdown",
   "metadata": {
    "papermill": {
     "duration": 0.082273,
     "end_time": "2020-12-30T07:54:26.814295",
     "exception": false,
     "start_time": "2020-12-30T07:54:26.732022",
     "status": "completed"
    },
    "tags": []
   },
   "source": [
    "We have ~80% accuracy classifier."
   ]
  },
  {
   "cell_type": "code",
   "execution_count": 54,
   "metadata": {
    "execution": {
     "iopub.execute_input": "2020-12-30T07:54:26.995881Z",
     "iopub.status.busy": "2020-12-30T07:54:26.990754Z",
     "iopub.status.idle": "2020-12-30T07:54:27.226536Z",
     "shell.execute_reply": "2020-12-30T07:54:27.225708Z"
    },
    "papermill": {
     "duration": 0.327752,
     "end_time": "2020-12-30T07:54:27.226660",
     "exception": false,
     "start_time": "2020-12-30T07:54:26.898908",
     "status": "completed"
    },
    "tags": []
   },
   "outputs": [
    {
     "name": "stdout",
     "output_type": "stream",
     "text": [
      "No Skill: ROC AUC=0.500\n",
      "Model: ROC AUC=0.839\n"
     ]
    },
    {
     "data": {
      "image/png": "[encoded data removed]",
      "text/plain": [
       "<Figure size 432x288 with 1 Axes>"
      ]
     },
     "metadata": {
      "needs_background": "light"
     },
     "output_type": "display_data"
    }
   ],
   "source": [
    "testy = test.Churn.values\n",
    "# predict probabilities\n",
    "pred_proba = model.predict_proba(test.drop('Churn',axis=1))\n",
    "# keep probabilities for the positive outcome only\n",
    "pred_proba = pred_proba[:, 1]\n",
    "# generate a no skill prediction (majority class)\n",
    "ns_probs = [0 for _ in range(len(testy))]\n",
    "# calculate scores\n",
    "ns_auc = roc_auc_score(testy, ns_probs)\n",
    "model_auc = roc_auc_score(testy, pred_proba)\n",
    "# summarize scores\n",
    "print('No Skill: ROC AUC=%.3f' % (ns_auc))\n",
    "print('Model: ROC AUC=%.3f' % (model_auc))\n",
    "# calculate roc curves\n",
    "ns_fpr, ns_tpr, _ = roc_curve(testy, ns_probs)\n",
    "model_fpr, model_tpr, _ = roc_curve(testy, pred_proba)\n",
    "# plot the roc curve for the model\n",
    "plt.plot(ns_fpr, ns_tpr, linestyle='--', label='No Skill')\n",
    "plt.plot(model_fpr, model_tpr, marker='.', label='Model')\n",
    "# axis labels\n",
    "plt.xlabel('False Positive Rate')\n",
    "plt.ylabel('True Positive Rate')\n",
    "# show the legend\n",
    "plt.legend()\n",
    "plt.title('ROC Curve on hold-out test set')\n",
    "# show the plot\n",
    "plt.show()"
   ]
  },
  {
   "cell_type": "markdown",
   "metadata": {
    "papermill": {
     "duration": 0.121418,
     "end_time": "2020-12-30T07:54:27.470215",
     "exception": false,
     "start_time": "2020-12-30T07:54:27.348797",
     "status": "completed"
    },
    "tags": []
   },
   "source": [
    "The ROC-AUC on test set has only decreased slightly from training set (0.85 to 0.84), hence our model does not overfit the training data."
   ]
  }
 ],
 "metadata": {
  "kernelspec": {
   "display_name": "Python 3",
   "language": "python",
   "name": "python3"
  },
  "language_info": {
   "codemirror_mode": {
    "name": "ipython",
    "version": 3
   },
   "file_extension": ".py",
   "mimetype": "text/x-python",
   "name": "python",
   "nbconvert_exporter": "python",
   "pygments_lexer": "ipython3",
   "version": "3.7.6"
  },
  "papermill": {
   "duration": 86.980024,
   "end_time": "2020-12-30T07:54:27.704918",
   "environment_variables": {},
   "exception": null,
   "input_path": "__notebook__.ipynb",
   "output_path": "__notebook__.ipynb",
   "parameters": {},
   "start_time": "2020-12-30T07:53:00.724894",
   "version": "2.1.0"
  }
 },
 "nbformat": 4,
 "nbformat_minor": 4
}
